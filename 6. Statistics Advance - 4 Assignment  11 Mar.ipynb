{
 "cells": [
  {
   "cell_type": "markdown",
   "id": "3d46694a-5304-4788-9e83-30c385615570",
   "metadata": {},
   "source": [
    "                                                    11 Mar Assignments Statistics advance - 4\n"
   ]
  },
  {
   "cell_type": "markdown",
   "id": "33d63beb-764e-4577-9380-84a219c15088",
   "metadata": {},
   "source": [
    "Q1: What is the difference between a t-test and a z-test? Provide an example scenario where you would\n",
    "use each type of test.\n"
   ]
  },
  {
   "cell_type": "markdown",
   "id": "e9414762-4203-4d40-9405-f1b16e379ebc",
   "metadata": {},
   "source": [
    "ans:\n",
    "\n",
    "    A z-test is used to test a Null Hypothesis if the population variance is known, or if the sample size is larger than 30, for an unknown population variance. \n",
    "\n",
    "    A t-test is used when the sample size is less than 30 and the population variance is unknown."
   ]
  },
  {
   "cell_type": "code",
   "execution_count": null,
   "id": "97ec5661-777d-4f99-b19f-b84d19659b58",
   "metadata": {},
   "outputs": [],
   "source": []
  },
  {
   "cell_type": "markdown",
   "id": "d8da0fe9-2c2a-4df4-8871-783bae889908",
   "metadata": {},
   "source": [
    "Q2: Differentiate between one-tailed and two-tailed tests.\n",
    "\n",
    "ans:\n",
    "    \n",
    "    One-tailed tests allow for the possibility of an effect in one direction. \n",
    "    \n",
    "    Two-tailed tests test for the possibility of an effect in two directions—positive and negative. "
   ]
  },
  {
   "cell_type": "code",
   "execution_count": null,
   "id": "bd92ebb7-48b1-459c-9468-f8936234b86e",
   "metadata": {},
   "outputs": [],
   "source": []
  },
  {
   "cell_type": "markdown",
   "id": "71e3c1ed-c1ca-4faa-95ca-75e463889e8c",
   "metadata": {},
   "source": [
    "Q3: Explain the concept of Type 1 and Type 2 errors in hypothesis testing. Provide an example scenario for\n",
    "each type of error.\n",
    "\n",
    "ans:\n",
    "    \n",
    "    Type I error (false-positive) occurs if an investigator rejects a null hypothesis that is actually true in the population;\n",
    "    Type II error (false-negative) occurs if the investigator fails to reject a null hypothesis that is actually false in the population."
   ]
  },
  {
   "cell_type": "markdown",
   "id": "d315ce98-bb92-43cb-87f7-6b44f2bfe765",
   "metadata": {},
   "source": [
    "example :\n",
    "    \n",
    "    Type 1 error would be if a suspect is on trial and found guilty when in fact they are innocent.\n",
    "    \n",
    "    Type 2 error would be suspect wont found guilty when in fact he is not innocent"
   ]
  },
  {
   "cell_type": "code",
   "execution_count": null,
   "id": "c23cb8cd-0c3f-4f36-ba1c-8fd346564d57",
   "metadata": {},
   "outputs": [],
   "source": []
  },
  {
   "cell_type": "markdown",
   "id": "45d08e90-bea9-4c51-ae8b-a48a2f53b052",
   "metadata": {},
   "source": [
    "Q4: Explain Bayes's theorem with an example.\n",
    "\n",
    "\n",
    "ans: \n",
    "    \n",
    "    The Bayes theorem (also known as the Bayes' rule) is a mathematical formula used to determine the conditional probability of events.\n",
    "                       \n",
    "example:\n",
    "\n",
    "    if we have to calculate the probability of taking a blue ball from the second bag out of three different bags of balls, where each bag contains three different colour balls viz. red, blue, black"
   ]
  },
  {
   "cell_type": "code",
   "execution_count": null,
   "id": "0cf6b4ec-ef8e-4ca0-b5c0-1d2d5250f6ce",
   "metadata": {},
   "outputs": [],
   "source": []
  },
  {
   "cell_type": "markdown",
   "id": "23da18f8-5c08-4e6d-adb3-81499314da5d",
   "metadata": {},
   "source": [
    "Q5: What is a confidence interval? How to calculate the confidence interval, explain with an example.\n",
    "\n",
    "ans:\n",
    "    \n",
    "    A confidence interval is the mean of your estimate plus and minus the variation in that estimate\n",
    "    \n",
    "    CI = Point Estimate +- Margin of Error \n",
    "    \n",
    "    suppose point estimation is 40 and margin of error is 5\n",
    "    then CI lies between 35 and 45"
   ]
  },
  {
   "cell_type": "code",
   "execution_count": null,
   "id": "4d176e60-6248-49eb-b739-9ece488fffd1",
   "metadata": {},
   "outputs": [],
   "source": []
  },
  {
   "cell_type": "markdown",
   "id": "dcb28cad-987b-4331-be1a-8bf46830e1e5",
   "metadata": {},
   "source": [
    "Q6. Use Bayes' Theorem to calculate the probability of an event occurring given prior knowledge of the\n",
    "event's probability and new evidence. Provide a sample problem and solution.\n"
   ]
  },
  {
   "cell_type": "markdown",
   "id": "18a1e292-d4ca-49d3-a6fe-e4c96c9c387f",
   "metadata": {},
   "source": [
    "ans:"
   ]
  },
  {
   "cell_type": "markdown",
   "id": "ce0ca8ea-34f6-48ec-ac38-1e973aa905dd",
   "metadata": {},
   "source": [
    "there is a BOX, contain 3 Green Ball, 2 Yellow ball.\n",
    "\n",
    "\n",
    "picking a green ball from the box : Pr(G) = 3/5\n",
    "picking a yellow ball from the box : Pr(Y) = 2/5\n",
    "\n",
    "our task is to find the prob to pick a green ball first and then a yellow ball :\n",
    "    \n",
    "    Pr(G and B) = Pr(B) * Pr(G/B)\n",
    "                = 2/5 * 3/4\n",
    "                = 6/20\n",
    "                = 3/10"
   ]
  },
  {
   "cell_type": "code",
   "execution_count": null,
   "id": "d5b679dd-1b14-4b34-b917-7f6e887bf4d5",
   "metadata": {},
   "outputs": [],
   "source": []
  },
  {
   "cell_type": "markdown",
   "id": "0d389424-88ae-4290-94d3-d749cfe304dc",
   "metadata": {},
   "source": [
    "Q7. Calculate the 95% confidence interval for a sample of data with a mean of 50 and a standard deviation\n",
    "of 5. Interpret the results.\n"
   ]
  },
  {
   "cell_type": "markdown",
   "id": "c906e0af-f493-4f44-b157-48690bfc3b59",
   "metadata": {},
   "source": [
    "ans:"
   ]
  },
  {
   "cell_type": "code",
   "execution_count": 6,
   "id": "a34a1187-2ab6-49a9-8e1d-2491b7635f5a",
   "metadata": {},
   "outputs": [],
   "source": [
    "mu = 50 \n",
    "std = 5\n",
    "CI = 0.95"
   ]
  },
  {
   "cell_type": "code",
   "execution_count": 7,
   "id": "4b209c0f-e400-4c52-9575-f5c35fc716f9",
   "metadata": {},
   "outputs": [
    {
     "data": {
      "text/plain": [
       "0.050000000000000044"
      ]
     },
     "execution_count": 7,
     "metadata": {},
     "output_type": "execute_result"
    }
   ],
   "source": [
    "alpha = 1 - CI\n",
    "alpha"
   ]
  },
  {
   "cell_type": "code",
   "execution_count": 8,
   "id": "cea1cabd-6201-4458-afd9-77bef68557be",
   "metadata": {},
   "outputs": [
    {
     "data": {
      "text/plain": [
       "0.025000000000000022"
      ]
     },
     "execution_count": 8,
     "metadata": {},
     "output_type": "execute_result"
    }
   ],
   "source": [
    "z_score = alpha/2\n",
    "z_score"
   ]
  },
  {
   "cell_type": "code",
   "execution_count": 21,
   "id": "3a92c92d-4367-4c57-9622-cbf711b6d232",
   "metadata": {},
   "outputs": [],
   "source": [
    "# assume , \n",
    "n = 25"
   ]
  },
  {
   "cell_type": "code",
   "execution_count": 22,
   "id": "dfa0b161-bcff-4ebb-b96f-3b70e18ecb22",
   "metadata": {},
   "outputs": [
    {
     "data": {
      "text/plain": [
       "49.975"
      ]
     },
     "execution_count": 22,
     "metadata": {},
     "output_type": "execute_result"
    }
   ],
   "source": [
    "lower_value = mu - z_score*(std/math.sqrt(n))\n",
    "lower_value"
   ]
  },
  {
   "cell_type": "code",
   "execution_count": 23,
   "id": "8f0715f1-d4d7-4518-bac5-739fac905370",
   "metadata": {},
   "outputs": [
    {
     "data": {
      "text/plain": [
       "50.025"
      ]
     },
     "execution_count": 23,
     "metadata": {},
     "output_type": "execute_result"
    }
   ],
   "source": [
    "upper_value = mu + z_score*(std/math.sqrt(n))\n",
    "upper_value"
   ]
  },
  {
   "cell_type": "code",
   "execution_count": 24,
   "id": "124df289-b3af-4561-b923-9ad0a1c900a8",
   "metadata": {},
   "outputs": [
    {
     "name": "stdout",
     "output_type": "stream",
     "text": [
      "CI Lies between Lower Value :  49.975  & upper Value  50.025\n"
     ]
    }
   ],
   "source": [
    "print(\"CI Lies between Lower Value : \", lower_value, \" & upper Value \" , upper_value)"
   ]
  },
  {
   "cell_type": "code",
   "execution_count": null,
   "id": "e832af18-87ff-4023-9b5a-618172f5a928",
   "metadata": {},
   "outputs": [],
   "source": [
    "\n",
    "\n"
   ]
  },
  {
   "cell_type": "markdown",
   "id": "d78169d8-e74b-4aff-833b-a9e113b62f94",
   "metadata": {},
   "source": [
    "Q8. What is the margin of error in a confidence interval? How does sample size affect the margin of error?\n",
    "Provide an example of a scenario where a larger sample size would result in a smaller margin of error.\n"
   ]
  },
  {
   "cell_type": "markdown",
   "id": "b2423b26-2e92-45f9-bfa8-4c3506b62722",
   "metadata": {},
   "source": [
    "ans:"
   ]
  },
  {
   "cell_type": "markdown",
   "id": "1ccb7b52-e1f4-416a-a4ed-80336ed9126c",
   "metadata": {},
   "source": [
    "        margin of error = z_score*(std Deviation/math.sqrt(No of samples))"
   ]
  },
  {
   "cell_type": "markdown",
   "id": "6e4ccbf9-636a-4101-b0a9-1cbfcd656514",
   "metadata": {},
   "source": [
    "        if sample size increases margin of error will decrease and vice versa"
   ]
  },
  {
   "cell_type": "code",
   "execution_count": 37,
   "id": "0f7f9d7f-8bc0-4f95-9ff2-fca24a416a33",
   "metadata": {},
   "outputs": [
    {
     "data": {
      "text/plain": [
       "39.2"
      ]
     },
     "execution_count": 37,
     "metadata": {},
     "output_type": "execute_result"
    }
   ],
   "source": [
    "##Example on  where a larger sample size would result in a smaller margin of error.\n",
    "\n",
    "#lets assume\n",
    "#first case sample size = 25\n",
    "\n",
    "z_score = 1.96\n",
    "std = 100\n",
    "n1 = 25\n",
    "\n",
    "margin_of_error1 = z_score*(std/math.sqrt(n1))\n",
    "margin_of_error1"
   ]
  },
  {
   "cell_type": "code",
   "execution_count": 38,
   "id": "6f16e09e-e092-459d-9fd9-059171c91f1c",
   "metadata": {},
   "outputs": [
    {
     "data": {
      "text/plain": [
       "3.92"
      ]
     },
     "execution_count": 38,
     "metadata": {},
     "output_type": "execute_result"
    }
   ],
   "source": [
    "#second case sample size = 2500\n",
    "\n",
    "z_score = 1.96\n",
    "std = 100\n",
    "n2 = 2500\n",
    "\n",
    "margin_of_error2 = z_score*(std/math.sqrt(n2))\n",
    "margin_of_error2"
   ]
  },
  {
   "cell_type": "code",
   "execution_count": null,
   "id": "aead52d8-57d9-4d97-a72b-315ac89ee1b5",
   "metadata": {},
   "outputs": [],
   "source": [
    "\n",
    "\n",
    "\n"
   ]
  },
  {
   "cell_type": "markdown",
   "id": "cfe4b8e9-f5f0-4caf-8de8-7a5efc3a8595",
   "metadata": {},
   "source": [
    "Q9. Calculate the z-score for a data point with a value of 75, a population mean of 70, and a population\n",
    "standard deviation of 5. Interpret the results.\n"
   ]
  },
  {
   "cell_type": "code",
   "execution_count": 39,
   "id": "d1a644f2-d048-42aa-9808-059397d7e249",
   "metadata": {},
   "outputs": [],
   "source": [
    "mu = 70\n",
    "n = 75\n",
    "std = 5"
   ]
  },
  {
   "cell_type": "code",
   "execution_count": 40,
   "id": "b557c457-152e-4f49-a218-800f4706ab64",
   "metadata": {},
   "outputs": [],
   "source": [
    "z_score = 1.96\n",
    "lower = mu - z_score * std/math.sqrt(75)\n",
    "\n",
    "upper = mu + z_score * std/math.sqrt(75)"
   ]
  },
  {
   "cell_type": "code",
   "execution_count": 43,
   "id": "f385ea4f-de23-436b-85e2-3354cce11ca5",
   "metadata": {},
   "outputs": [
    {
     "name": "stdout",
     "output_type": "stream",
     "text": [
      "CI Lies between Lower Value :  68.86839347238833  & upper Value  71.13160652761167\n"
     ]
    }
   ],
   "source": [
    "print(\"CI Lies between Lower Value : \", lower, \" & upper Value \" , upper)"
   ]
  },
  {
   "cell_type": "code",
   "execution_count": null,
   "id": "f99fa04d-a348-414d-9b84-120d5d3b8f11",
   "metadata": {},
   "outputs": [],
   "source": [
    "\n",
    "\n"
   ]
  },
  {
   "cell_type": "markdown",
   "id": "2e1dbc63-1f10-4998-878a-85d3dfbc5ea9",
   "metadata": {},
   "source": [
    "Q10. In a study of the effectiveness of a new weight loss drug, a sample of 50 participants lost an average\n",
    "of 6 pounds with a standard deviation of 2.5 pounds. Conduct a hypothesis test to determine if the drug is\n",
    "significantly effective at a 95% confidence level using a t-test.\n"
   ]
  },
  {
   "cell_type": "code",
   "execution_count": 44,
   "id": "9bc931b7-0365-40f0-adef-e17e153bb541",
   "metadata": {},
   "outputs": [],
   "source": [
    "n = 50\n",
    "mu = 6 \n",
    "std = 2.5\n",
    "confidence_level = 0.95\n",
    "alpha = 0.05"
   ]
  },
  {
   "cell_type": "code",
   "execution_count": 45,
   "id": "c934c9c8-5b1f-438f-9b1c-bd455382459c",
   "metadata": {},
   "outputs": [
    {
     "data": {
      "text/plain": [
       "0.975"
      ]
     },
     "execution_count": 45,
     "metadata": {},
     "output_type": "execute_result"
    }
   ],
   "source": [
    "area_under_the_curve = 1 - alpha/2\n",
    "area_under_the_curve"
   ]
  },
  {
   "cell_type": "code",
   "execution_count": 46,
   "id": "7c534020-f681-44b0-887a-6868e59c5d90",
   "metadata": {},
   "outputs": [],
   "source": [
    "#From z table\n",
    "z_score = 1.96"
   ]
  },
  {
   "cell_type": "code",
   "execution_count": 47,
   "id": "9fbb9ee7-2926-409b-9057-304e8fd5fd3c",
   "metadata": {},
   "outputs": [],
   "source": [
    "lower10 = mu - (z_score*(std/math.sqrt(n)))"
   ]
  },
  {
   "cell_type": "code",
   "execution_count": 48,
   "id": "cad71cde-ee8a-4fb0-83f1-c3c5558bc3fa",
   "metadata": {},
   "outputs": [],
   "source": [
    "upper10 = mu + (z_score*(std/math.sqrt(n)))"
   ]
  },
  {
   "cell_type": "code",
   "execution_count": 49,
   "id": "bcc8a06c-50b5-4730-b182-84186715d618",
   "metadata": {},
   "outputs": [
    {
     "name": "stdout",
     "output_type": "stream",
     "text": [
      "CI Lies between Lower Value :  5.3070353544371835  & upper Value  6.6929646455628165\n"
     ]
    }
   ],
   "source": [
    "print(\"CI Lies between Lower Value : \", lower10, \" & upper Value \" , upper10)"
   ]
  },
  {
   "cell_type": "code",
   "execution_count": null,
   "id": "c580bd40-5b91-449e-ad1a-e7166c694fba",
   "metadata": {},
   "outputs": [],
   "source": [
    "\n",
    "\n",
    "\n"
   ]
  },
  {
   "cell_type": "markdown",
   "id": "e8bd0c19-9156-40ed-b605-010f5532ba75",
   "metadata": {},
   "source": [
    "Q11. In a survey of 500 people, 65% reported being satisfied with their current job. Calculate the 95%\n",
    "confidence interval for the true proportion of people who are satisfied with their job.\n"
   ]
  },
  {
   "cell_type": "code",
   "execution_count": 51,
   "id": "be0e2d75-6354-4ace-8b83-f37942f5cb1f",
   "metadata": {},
   "outputs": [],
   "source": [
    "n = 500\n",
    "mu = 65\n",
    "confidence_level = 0.95\n",
    "alpha = 0.05"
   ]
  },
  {
   "cell_type": "code",
   "execution_count": 52,
   "id": "fd6ec6f2-ea0d-4007-a5db-65fa91c55127",
   "metadata": {},
   "outputs": [
    {
     "data": {
      "text/plain": [
       "0.975"
      ]
     },
     "execution_count": 52,
     "metadata": {},
     "output_type": "execute_result"
    }
   ],
   "source": [
    "area_under_the_curve = 1 - alpha/2\n",
    "area_under_the_curve"
   ]
  },
  {
   "cell_type": "code",
   "execution_count": 53,
   "id": "48689f74-a40d-4a17-b5fc-d87179a3aa00",
   "metadata": {},
   "outputs": [],
   "source": [
    "#From z table\n",
    "z_score = 1.96"
   ]
  },
  {
   "cell_type": "code",
   "execution_count": 54,
   "id": "c7646558-433e-4b20-825f-d031be616dfd",
   "metadata": {},
   "outputs": [],
   "source": [
    "lower11 = mu - (z_score*(std/math.sqrt(n)))\n",
    "upper11 = mu + (z_score*(std/math.sqrt(n)))"
   ]
  },
  {
   "cell_type": "code",
   "execution_count": 55,
   "id": "ec690277-bd13-44df-986f-31be63e1c569",
   "metadata": {},
   "outputs": [
    {
     "name": "stdout",
     "output_type": "stream",
     "text": [
      "CI Lies between Lower Value :  64.78086533820502  & upper Value  65.21913466179498\n"
     ]
    }
   ],
   "source": [
    "print(\"CI Lies between Lower Value : \", lower11, \" & upper Value \" , upper11)"
   ]
  },
  {
   "cell_type": "code",
   "execution_count": null,
   "id": "6ba4b87c-ca0f-4e67-89d5-52551677fa5c",
   "metadata": {},
   "outputs": [],
   "source": [
    "\n",
    "\n"
   ]
  },
  {
   "cell_type": "markdown",
   "id": "f0221953-b8d7-414a-9ea8-3f96020f32b1",
   "metadata": {},
   "source": [
    "Q12. A researcher is testing the effectiveness of two different teaching methods on student performance.\n",
    "Sample A has a mean score of 85 with a standard deviation of 6, while sample B has a mean score of 82\n",
    "with a standard deviation of 5. Conduct a hypothesis test to determine if the two teaching methods have a\n",
    "significant difference in student performance using a t-test with a significance level of 0.01.\n"
   ]
  },
  {
   "cell_type": "code",
   "execution_count": 56,
   "id": "45adb9ff-fb7e-4334-98b2-5a0e9f66e804",
   "metadata": {},
   "outputs": [],
   "source": [
    "#sample A\n",
    "mu1 = 85\n",
    "std1 = 6\n"
   ]
  },
  {
   "cell_type": "code",
   "execution_count": 57,
   "id": "d9f61e16-6cbb-478c-a6fb-707b320385c4",
   "metadata": {},
   "outputs": [],
   "source": [
    "#sample B\n",
    "mu2 = 82\n",
    "std2 = 5"
   ]
  },
  {
   "cell_type": "code",
   "execution_count": 83,
   "id": "8a7e5d5a-4b59-4454-8dc5-7ff72d66bc9f",
   "metadata": {},
   "outputs": [
    {
     "name": "stdout",
     "output_type": "stream",
     "text": [
      "chances_a Lower Value :  73  & upper Value  97\n"
     ]
    }
   ],
   "source": [
    "chances_a_lower = mu1 - 2*std1\n",
    "chances_a_upper = mu1 + 2*std1\n",
    "print(\"chances_a Lower Value : \", chances_a_lower, \" & upper Value \" , chances_a_upper)"
   ]
  },
  {
   "cell_type": "code",
   "execution_count": 84,
   "id": "327c7a7a-2be7-4360-8f82-8890f34ad55f",
   "metadata": {},
   "outputs": [
    {
     "name": "stdout",
     "output_type": "stream",
     "text": [
      "chances_b Lower Value :  72  & upper Value  92\n"
     ]
    }
   ],
   "source": [
    "chances_b_lower = mu2 - 2*std2\n",
    "chances_b_upper = mu2 + 2*std2\n",
    "print(\"chances_b Lower Value : \", chances_b_lower, \" & upper Value \" , chances_b_upper)\n"
   ]
  },
  {
   "cell_type": "code",
   "execution_count": 85,
   "id": "c1f424f5-fe41-4638-8a19-190fbbce6bef",
   "metadata": {},
   "outputs": [],
   "source": [
    "# SAMPLE A has better performance "
   ]
  },
  {
   "cell_type": "code",
   "execution_count": null,
   "id": "797a63e8-b382-4287-aadc-12770f245a90",
   "metadata": {},
   "outputs": [],
   "source": []
  },
  {
   "cell_type": "code",
   "execution_count": null,
   "id": "2e90fb08-5b1c-4155-966c-3d512cda4913",
   "metadata": {},
   "outputs": [],
   "source": []
  },
  {
   "cell_type": "markdown",
   "id": "c8b8f1c2-0f67-4525-b051-4afe0f71f029",
   "metadata": {},
   "source": [
    "Q13. A population has a mean of 60 and a standard deviation of 8. A sample of 50 observations has a mean\n",
    "of 65. Calculate the 90% confidence interval for the true population mean.\n"
   ]
  },
  {
   "cell_type": "code",
   "execution_count": 81,
   "id": "892c2fd2-0bc4-4368-8bcd-cde7404b4c47",
   "metadata": {},
   "outputs": [],
   "source": [
    "mu = 60\n",
    "std = 8\n",
    "n = 50\n",
    "mu_s = 65\n",
    "CI = 0.9"
   ]
  },
  {
   "cell_type": "code",
   "execution_count": 69,
   "id": "1c15a2c9-524e-4fab-afc6-19a26328975b",
   "metadata": {},
   "outputs": [
    {
     "data": {
      "text/plain": [
       "0.09999999999999998"
      ]
     },
     "execution_count": 69,
     "metadata": {},
     "output_type": "execute_result"
    }
   ],
   "source": [
    "alpha = 1 -CI\n",
    "alpha"
   ]
  },
  {
   "cell_type": "code",
   "execution_count": 70,
   "id": "f48a9902-c0cd-4816-bca5-4d2ba0768b51",
   "metadata": {},
   "outputs": [
    {
     "data": {
      "text/plain": [
       "0.95"
      ]
     },
     "execution_count": 70,
     "metadata": {},
     "output_type": "execute_result"
    }
   ],
   "source": [
    "area_under_the_curve = 1 - alpha/2\n",
    "area_under_the_curve"
   ]
  },
  {
   "cell_type": "code",
   "execution_count": 71,
   "id": "a597ba5f-5aff-4ef2-b7bb-00835d505414",
   "metadata": {},
   "outputs": [],
   "source": [
    "#From z table\n",
    "z_score = 1.65"
   ]
  },
  {
   "cell_type": "code",
   "execution_count": 73,
   "id": "7dc9ab03-18a9-4ac4-af6f-85ce8c04ed0e",
   "metadata": {},
   "outputs": [],
   "source": [
    "lower13 = mu_s - (z_score*(std/math.sqrt(n)))\n",
    "upper13 = mu_s + (z_score*(std/math.sqrt(n)))"
   ]
  },
  {
   "cell_type": "code",
   "execution_count": 74,
   "id": "c611387d-ff11-47d7-91ec-008865e49ef2",
   "metadata": {},
   "outputs": [
    {
     "name": "stdout",
     "output_type": "stream",
     "text": [
      "CI Lies between Lower Value :  63.133238097667515  & upper Value  66.86676190233248\n"
     ]
    }
   ],
   "source": [
    "print(\"CI Lies between Lower Value : \", lower13, \" & upper Value \" , upper13)"
   ]
  },
  {
   "cell_type": "code",
   "execution_count": null,
   "id": "cab30154-b273-4176-8fc5-f81006002e46",
   "metadata": {},
   "outputs": [],
   "source": [
    "\n",
    "\n",
    "\n"
   ]
  },
  {
   "cell_type": "markdown",
   "id": "45fa73e8-7d97-4e25-8272-a1be21fe2290",
   "metadata": {},
   "source": [
    "Q14. In a study of the effects of caffeine on reaction time, a sample of 30 participants had an average\n",
    "reaction time of 0.25 seconds with a standard deviation of 0.05 seconds. Conduct a hypothesis test to\n",
    "determine if the caffeine has a significant effect on reaction time at a 90% confidence level using a t-test."
   ]
  },
  {
   "cell_type": "code",
   "execution_count": 75,
   "id": "c5b1e37f-8e02-4ede-80dc-14df632f1a65",
   "metadata": {},
   "outputs": [],
   "source": [
    "n = 30\n",
    "mu = 0.25\n",
    "std = 0.05"
   ]
  },
  {
   "cell_type": "code",
   "execution_count": 76,
   "id": "bb3fdbf5-6408-41da-8af3-a658e2844bab",
   "metadata": {},
   "outputs": [
    {
     "data": {
      "text/plain": [
       "0.09999999999999998"
      ]
     },
     "execution_count": 76,
     "metadata": {},
     "output_type": "execute_result"
    }
   ],
   "source": [
    "CI = 0.9\n",
    "alpha = 1-CI\n",
    "alpha"
   ]
  },
  {
   "cell_type": "code",
   "execution_count": 77,
   "id": "d9884afa-94e1-4848-9ae8-422f1bd45240",
   "metadata": {},
   "outputs": [
    {
     "data": {
      "text/plain": [
       "0.95"
      ]
     },
     "execution_count": 77,
     "metadata": {},
     "output_type": "execute_result"
    }
   ],
   "source": [
    "area_under_the_curve = 1 - alpha/2\n",
    "area_under_the_curve"
   ]
  },
  {
   "cell_type": "code",
   "execution_count": 78,
   "id": "1077ccb3-3059-4de6-a4d3-2eff3e8484b9",
   "metadata": {},
   "outputs": [],
   "source": [
    "#From z table\n",
    "z_score = 1.65"
   ]
  },
  {
   "cell_type": "code",
   "execution_count": 79,
   "id": "4de849f3-ceee-42a8-8bc6-3c7d075728dd",
   "metadata": {},
   "outputs": [],
   "source": [
    "lower14 = mu - (z_score*(std/math.sqrt(n)))\n",
    "upper14 = mu + (z_score*(std/math.sqrt(n)))"
   ]
  },
  {
   "cell_type": "code",
   "execution_count": 80,
   "id": "1b483197-df44-4ac5-a372-d00a67260ba5",
   "metadata": {},
   "outputs": [
    {
     "name": "stdout",
     "output_type": "stream",
     "text": [
      "CI Lies between Lower Value :  0.23493762966860793  & upper Value  0.26506237033139207\n"
     ]
    }
   ],
   "source": [
    "print(\"CI Lies between Lower Value : \", lower14, \" & upper Value \" , upper14)"
   ]
  }
 ],
 "metadata": {
  "kernelspec": {
   "display_name": "Python 3 (ipykernel)",
   "language": "python",
   "name": "python3"
  },
  "language_info": {
   "codemirror_mode": {
    "name": "ipython",
    "version": 3
   },
   "file_extension": ".py",
   "mimetype": "text/x-python",
   "name": "python",
   "nbconvert_exporter": "python",
   "pygments_lexer": "ipython3",
   "version": "3.10.8"
  }
 },
 "nbformat": 4,
 "nbformat_minor": 5
}
