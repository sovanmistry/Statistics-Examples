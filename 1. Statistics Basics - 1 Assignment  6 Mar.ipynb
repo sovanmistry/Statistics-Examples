{
 "cells": [
  {
   "cell_type": "markdown",
   "id": "e02c9c8f-2ee7-48ee-be57-2f8d925679b8",
   "metadata": {},
   "source": [
    "                                                        6 Mar Assignments - Statistics Basics - 1"
   ]
  },
  {
   "cell_type": "markdown",
   "id": "2eb8dd96-d952-46f4-b739-0c3c46537feb",
   "metadata": {},
   "source": [
    "Q1. What is Statistics?\n",
    "\n",
    "\n",
    "Ans : \n",
    "\n",
    "Statistics is the science of collecting, organizing and analyzing data"
   ]
  },
  {
   "cell_type": "code",
   "execution_count": null,
   "id": "9deae7ff-7f28-4844-b03a-26477b710e9d",
   "metadata": {},
   "outputs": [],
   "source": []
  },
  {
   "cell_type": "markdown",
   "id": "a70f8fd4-096f-43de-8a36-f55122d9ef0b",
   "metadata": {},
   "source": [
    "Q2. Define the different types of statistics and give an example of when each type might be used.\n",
    "\n",
    "Ans: \n",
    "    \n",
    "                    Descriptive Statistics : \n",
    "    \n",
    "consists of organizing and summarizing data.\n",
    "\n",
    "e.g: in a class of 20 students, we can calculate the mean (average) height of students\n",
    "\n",
    "\n",
    "\n",
    "\n",
    "                    Inferential Statistics : \n",
    "    \n",
    "it consists of using data to measure and get a conclusion based on your data.\n",
    "\n",
    "e.g : if the average height of a class can be consider as a average height of the entire compass or not "
   ]
  },
  {
   "cell_type": "code",
   "execution_count": null,
   "id": "fe161141-691f-468f-b892-bbefd022096a",
   "metadata": {},
   "outputs": [],
   "source": [
    "\n",
    "\n",
    "\n"
   ]
  },
  {
   "cell_type": "markdown",
   "id": "bfbf8750-a025-4f18-b0f2-799d5d688bfd",
   "metadata": {},
   "source": [
    "Q3. What are the different types of data and how do they differ from each other? Provide an example of\n",
    "each type of data."
   ]
  },
  {
   "cell_type": "markdown",
   "id": "3f358d0d-e838-4c7d-baf2-fc72d21b7886",
   "metadata": {},
   "source": [
    "Ans: "
   ]
  },
  {
   "cell_type": "markdown",
   "id": "ef97243c-db87-4a10-aa93-14039818781c",
   "metadata": {},
   "source": [
    "1. Quantitive Data : it consider only numerical Values. it can be separated between below 2 categories.\n",
    "\n",
    "    a. Discrete : only deals in whole numbers. \n",
    "    \n",
    "    e.g : no of bank account of a person\n",
    "    \n",
    "    b. Continious : it can deal with any type of numeric values.\n",
    "    \n",
    "    e.g: height"
   ]
  },
  {
   "cell_type": "markdown",
   "id": "5a1af526-f8db-43fd-98fe-24cf50281409",
   "metadata": {},
   "source": [
    "2. Qualitative Data : it consider categorical value.  it can be separated between below 2 categories.\n",
    "\n",
    "    a. Nominal : no rank were associated with it.\n",
    "    \n",
    "    e.g : Gender (male, female, others)\n",
    "    \n",
    "    b. Ordinal : rank should be there.\n",
    "    \n",
    "    e.g : customer Feedback : ( Good - 1,\n",
    "                               Avergae - 2,\n",
    "                               Bad-  3) \n",
    "        \n",
    "        "
   ]
  },
  {
   "cell_type": "code",
   "execution_count": null,
   "id": "69af787c-6241-4190-9af0-6ab96a2fa8bf",
   "metadata": {},
   "outputs": [],
   "source": [
    "\n",
    "\n",
    "\n"
   ]
  },
  {
   "cell_type": "markdown",
   "id": "8fee2004-2ac2-41b8-9db7-752395b8e450",
   "metadata": {},
   "source": [
    "Q4. Categorise the following datasets with respect to quantitative and qualitative data types:\n",
    "\n"
   ]
  },
  {
   "cell_type": "markdown",
   "id": "3d94494f-8e8f-4241-aea4-5f67042e3c99",
   "metadata": {},
   "source": [
    "Ans: "
   ]
  },
  {
   "cell_type": "markdown",
   "id": "49b3d041-0a1b-4a63-9b7e-a3da7c53bf99",
   "metadata": {},
   "source": [
    "(i) Grading in exam: A+, A, B+, B, C+, C, D, E\n",
    "\n",
    "\n",
    "Qualitative - Ordinal"
   ]
  },
  {
   "cell_type": "markdown",
   "id": "da4dc4fe-26bb-4ce4-b98c-32d14db033a3",
   "metadata": {},
   "source": [
    "\n",
    "(ii) Colour of mangoes: yellow, green, orange, red\n",
    "\n",
    "Qualitative - Nominal"
   ]
  },
  {
   "cell_type": "markdown",
   "id": "635824b5-c041-494d-b34a-c2687492313e",
   "metadata": {},
   "source": [
    "\n",
    "(iii) Height data of a class: [178.9, 179, 179.5, 176, 177.2, 178.3, 175.8,...]\n",
    "\n",
    "Quantitative - Continious"
   ]
  },
  {
   "cell_type": "markdown",
   "id": "74ae18b9-b7eb-4d8f-8922-607a865864cd",
   "metadata": {},
   "source": [
    "(iv) Number of mangoes exported by a farm: [500, 600, 478, 672, …]\n",
    "\n",
    "Quantitative - Discrete "
   ]
  },
  {
   "cell_type": "code",
   "execution_count": null,
   "id": "def3b39e-46e7-41c0-97c2-7cce9145fb2c",
   "metadata": {},
   "outputs": [],
   "source": [
    "\n",
    "\n",
    "\n"
   ]
  },
  {
   "cell_type": "markdown",
   "id": "9cac49a1-fc1c-4b0e-9030-5ed4fe0ee892",
   "metadata": {},
   "source": [
    "Q5. Explain the concept of levels of measurement and give an example of a variable for each level.\n"
   ]
  },
  {
   "cell_type": "markdown",
   "id": "4484b5d0-e96f-4f8a-8cd2-8c56020fda88",
   "metadata": {},
   "source": [
    "Ans: "
   ]
  },
  {
   "cell_type": "markdown",
   "id": "863a2b08-3cd2-43a4-84f0-f5258a9281f3",
   "metadata": {},
   "source": [
    "Levels of measurement: it tells you how precisely variables are recorded."
   ]
  },
  {
   "cell_type": "markdown",
   "id": "191d6199-a980-4fd5-8c5e-9e110d1c2c2f",
   "metadata": {},
   "source": [
    "\n",
    "    1. Nominal: the data can only be categorized\n",
    "       e.g : Gender \n",
    "    \n",
    "    \n",
    "    2. Ordinal: the data can be categorized and ranked\n",
    "       e.g : Working Productivity in week : \n",
    "        Mon - 100\n",
    "        Tue - 80\n",
    "        Wed - 60\n",
    "        Thurs - 40\n",
    "        Fri - 30\n",
    "    \n",
    "    3. Interval: the data can be categorized, ranked, and evenly spaced\n",
    "       e.g : Temparature Variable \n",
    "    \n",
    "    \n",
    "    4. Ratio: the data can be categorized, ranked, evenly spaced, and has a natural zero.\n",
    "       e.g : Marks of all students in a class = [0,15, 23, 50, 75, 83, 94, 100]\n"
   ]
  },
  {
   "cell_type": "code",
   "execution_count": null,
   "id": "1ba4403f-132f-4d64-9c71-4eb78f51e042",
   "metadata": {},
   "outputs": [],
   "source": [
    "\n",
    "\n",
    "\n"
   ]
  },
  {
   "cell_type": "markdown",
   "id": "fa4160cd-fa0d-475c-bc97-37ce9d8f7c9d",
   "metadata": {},
   "source": [
    "Q6. Why is it important to understand the level of measurement when analyzing data? Provide an\n",
    "example to illustrate your answer.\n"
   ]
  },
  {
   "cell_type": "markdown",
   "id": "e607fd4e-14b6-4c97-b4c3-a4ff3ae6b5bd",
   "metadata": {},
   "source": [
    "Ans : \n",
    "\n",
    "The level at which you measure a variable determines how you can analyze your data.\n",
    "\n",
    "The different levels limit which descriptive statistics you can use to get an overall summary of your data, and which type of inferential statistics you can perform on your data to support or refute your hypothesis.\n",
    "\n",
    "In many cases, your variables can be measured at different levels, so you have to choose the level of measurement you will use before data collection begins."
   ]
  },
  {
   "cell_type": "markdown",
   "id": "01b2df0b-55a2-494e-b311-b3fe2ace61dc",
   "metadata": {},
   "source": [
    "Example : \n",
    "    \n",
    "You can measure the variable of income at an ordinal or ratio level.\n",
    "\n",
    "    Ordinal level: You create brackets of income ranges: $0–$19,999, $20,000–$39,999, and $40,000–$59,999. \n",
    "    You ask participants to select the bracket that represents their annual income. The brackets are coded with numbers from 1–3.\n",
    "    Ratio level: You collect data on the exact annual incomes of your participants.\n",
    "\n",
    "Participant \tIncome (ordinal level) \tIncome (ratio level)\n",
    "A \tBracket 1 \t$12,550\n",
    "B \tBracket 2 \t$39,700\n",
    "C \tBracket 3 \t$40,300\n",
    "\n",
    "At a ratio level, you can see that the difference between A and B’s incomes is far greater than the \n",
    "difference between B and C’s incomes.\n",
    "\n",
    "At an ordinal level, however, you only know the income bracket for each participant,\n",
    "not their exact income. Since you cannot say exactly how much each income differs from the others in your data set,\n",
    "you can only order the income levels and group the participants."
   ]
  },
  {
   "cell_type": "code",
   "execution_count": null,
   "id": "813ce5e5-6bf9-4f8a-a2d2-522a20070825",
   "metadata": {},
   "outputs": [],
   "source": [
    "\n",
    "\n",
    "\n"
   ]
  },
  {
   "cell_type": "markdown",
   "id": "9f9ad251-d364-4563-b747-11d25042e7f8",
   "metadata": {},
   "source": [
    "Q7. How nominal data type is different from ordinal data type.\n"
   ]
  },
  {
   "cell_type": "markdown",
   "id": "e793f5d1-cfa8-4afa-8c77-ecd3879dd1b8",
   "metadata": {},
   "source": [
    "Ans: "
   ]
  },
  {
   "cell_type": "markdown",
   "id": "a4c0f53f-22c3-4a07-9c79-35929d75a25f",
   "metadata": {},
   "source": [
    "Nominal : \n",
    "\n",
    "    Order doesn't matter\n",
    "\n",
    "    We cant compare 2 data based on value"
   ]
  },
  {
   "cell_type": "markdown",
   "id": "4be32053-4387-4210-8e9b-3362b6b9e142",
   "metadata": {},
   "source": [
    "Ordinal:\n",
    "    \n",
    "    Order Matter\n",
    "    \n",
    "    we can compare 2 data based on value\n",
    "    \n",
    "    "
   ]
  },
  {
   "cell_type": "code",
   "execution_count": null,
   "id": "9a7cbd05-1519-43b4-8e6f-f8dcbb5addf4",
   "metadata": {},
   "outputs": [],
   "source": [
    "\n",
    "\n",
    "\n",
    "\n"
   ]
  },
  {
   "cell_type": "markdown",
   "id": "37d4deb7-0256-4b92-83ba-66793796d754",
   "metadata": {},
   "source": [
    "Q8. Which type of plot can be used to display data in terms of range?\n"
   ]
  },
  {
   "cell_type": "markdown",
   "id": "57fff1e6-a755-4af7-88c9-57bb3c918605",
   "metadata": {},
   "source": [
    "ans: \n",
    "\n",
    "Histogram"
   ]
  },
  {
   "cell_type": "code",
   "execution_count": null,
   "id": "00b1e545-a753-43e8-94ac-8426986157df",
   "metadata": {},
   "outputs": [],
   "source": [
    "\n",
    "\n",
    "\n"
   ]
  },
  {
   "cell_type": "markdown",
   "id": "738e0dc6-0545-4860-a6de-e843b9fb35f6",
   "metadata": {},
   "source": [
    "Q9. Describe the difference between descriptive and inferential statistics. Give an example of each\n",
    "type of statistics and explain how they are used.\n"
   ]
  },
  {
   "cell_type": "markdown",
   "id": "9582a77e-2da1-4163-81a8-561e59594aee",
   "metadata": {},
   "source": [
    "Ans: "
   ]
  },
  {
   "cell_type": "markdown",
   "id": "59c885b2-eade-448f-a3b6-3f6200c7a7be",
   "metadata": {},
   "source": [
    "1 . Descriptive Statistics gives information about raw data regarding its description or features. \n",
    "\n",
    "Inferential statistics, on the other hand, draw inferences about the population by using data extracted from the population. \n",
    "\n",
    "2. We use descriptive statistics to describe a situation, while we use inferential statistics to explain the probability of occurrence of an event. \n",
    "\n",
    "3. As for descriptive statistics, it helps to organize, analyze and present data in a meaningful manner. Inferential statistics helps to compare data, make hypotheses and predictions. \n",
    "\n",
    "4. Descriptive statistics explains already known data related to a particular sample or population of a small size. Inferential statistics, however, aims to draw inferences or conclusions about a whole population. \n",
    "\n",
    "5. We use charts, graphs, and tables to represent descriptive statistics, while we use probability methods for inferential statistics."
   ]
  },
  {
   "cell_type": "markdown",
   "id": "efef4690-9821-433d-b12a-c04c809ed1fd",
   "metadata": {},
   "source": [
    "e.g :  class of 100 stundents with some height\n",
    "\n",
    "descriptive statistics : \n",
    "\n",
    "what is the average height of this class\n",
    "\n",
    "\n",
    "Inferential Statistics: \n",
    "\n",
    "Based on avergae height of 100 stundents, can we predict the averge height of entire college"
   ]
  },
  {
   "cell_type": "code",
   "execution_count": null,
   "id": "a808163d-9aa7-4dd0-a362-f6a951d82e13",
   "metadata": {},
   "outputs": [],
   "source": [
    "\n",
    "\n",
    "\n"
   ]
  },
  {
   "cell_type": "markdown",
   "id": "9562751f-f6e0-42ec-a40e-e6135725e387",
   "metadata": {},
   "source": [
    "Q10. What are some common measures of central tendency and variability used in statistics? Explain\n",
    "how each measure can be used to describe a dataset."
   ]
  },
  {
   "cell_type": "markdown",
   "id": "9a8ccf70-3eaf-419b-8a85-05c9b0f74e7f",
   "metadata": {},
   "source": [
    "ans: \n",
    "\n",
    "Mean, median, mode"
   ]
  },
  {
   "cell_type": "code",
   "execution_count": 17,
   "id": "f599ac78-ad38-44ae-80fc-92f3f376898c",
   "metadata": {},
   "outputs": [
    {
     "data": {
      "text/html": [
       "<div>\n",
       "<style scoped>\n",
       "    .dataframe tbody tr th:only-of-type {\n",
       "        vertical-align: middle;\n",
       "    }\n",
       "\n",
       "    .dataframe tbody tr th {\n",
       "        vertical-align: top;\n",
       "    }\n",
       "\n",
       "    .dataframe thead th {\n",
       "        text-align: right;\n",
       "    }\n",
       "</style>\n",
       "<table border=\"1\" class=\"dataframe\">\n",
       "  <thead>\n",
       "    <tr style=\"text-align: right;\">\n",
       "      <th></th>\n",
       "      <th>0</th>\n",
       "    </tr>\n",
       "  </thead>\n",
       "  <tbody>\n",
       "    <tr>\n",
       "      <th>0</th>\n",
       "      <td>167</td>\n",
       "    </tr>\n",
       "    <tr>\n",
       "      <th>1</th>\n",
       "      <td>156</td>\n",
       "    </tr>\n",
       "    <tr>\n",
       "      <th>2</th>\n",
       "      <td>156</td>\n",
       "    </tr>\n",
       "    <tr>\n",
       "      <th>3</th>\n",
       "      <td>156</td>\n",
       "    </tr>\n",
       "    <tr>\n",
       "      <th>4</th>\n",
       "      <td>156</td>\n",
       "    </tr>\n",
       "  </tbody>\n",
       "</table>\n",
       "</div>"
      ],
      "text/plain": [
       "     0\n",
       "0  167\n",
       "1  156\n",
       "2  156\n",
       "3  156\n",
       "4  156"
      ]
     },
     "execution_count": 17,
     "metadata": {},
     "output_type": "execute_result"
    }
   ],
   "source": [
    "import pandas as pd\n",
    "height  = [167,156, 156, 156, 156, 157, 159, 168, 145]\n",
    "df = pd.DataFrame(height)\n",
    "df.head()"
   ]
  },
  {
   "cell_type": "code",
   "execution_count": 19,
   "id": "bf22cc8d-2340-4123-9351-02eb607c5569",
   "metadata": {},
   "outputs": [
    {
     "data": {
      "text/plain": [
       "0    157.777778\n",
       "dtype: float64"
      ]
     },
     "execution_count": 19,
     "metadata": {},
     "output_type": "execute_result"
    }
   ],
   "source": [
    "#average of height\n",
    "df.mean()"
   ]
  },
  {
   "cell_type": "code",
   "execution_count": 20,
   "id": "8ea63299-c1a2-4fca-8544-31c543b8fd88",
   "metadata": {},
   "outputs": [
    {
     "data": {
      "text/plain": [
       "0    156.0\n",
       "dtype: float64"
      ]
     },
     "execution_count": 20,
     "metadata": {},
     "output_type": "execute_result"
    }
   ],
   "source": [
    "#remove the outliner and give the average\n",
    "df.median()"
   ]
  },
  {
   "cell_type": "code",
   "execution_count": 22,
   "id": "ec96262f-b021-46fc-9a7d-ba472e0defec",
   "metadata": {},
   "outputs": [
    {
     "data": {
      "text/html": [
       "<div>\n",
       "<style scoped>\n",
       "    .dataframe tbody tr th:only-of-type {\n",
       "        vertical-align: middle;\n",
       "    }\n",
       "\n",
       "    .dataframe tbody tr th {\n",
       "        vertical-align: top;\n",
       "    }\n",
       "\n",
       "    .dataframe thead th {\n",
       "        text-align: right;\n",
       "    }\n",
       "</style>\n",
       "<table border=\"1\" class=\"dataframe\">\n",
       "  <thead>\n",
       "    <tr style=\"text-align: right;\">\n",
       "      <th></th>\n",
       "      <th>0</th>\n",
       "    </tr>\n",
       "  </thead>\n",
       "  <tbody>\n",
       "    <tr>\n",
       "      <th>0</th>\n",
       "      <td>156</td>\n",
       "    </tr>\n",
       "  </tbody>\n",
       "</table>\n",
       "</div>"
      ],
      "text/plain": [
       "     0\n",
       "0  156"
      ]
     },
     "execution_count": 22,
     "metadata": {},
     "output_type": "execute_result"
    }
   ],
   "source": [
    "# provide us the no which has highest frequency\n",
    "df.mode()"
   ]
  },
  {
   "cell_type": "code",
   "execution_count": null,
   "id": "2f916843-9e3a-4dce-bf3d-1636e4d2a13a",
   "metadata": {},
   "outputs": [],
   "source": []
  }
 ],
 "metadata": {
  "kernelspec": {
   "display_name": "Python 3 (ipykernel)",
   "language": "python",
   "name": "python3"
  },
  "language_info": {
   "codemirror_mode": {
    "name": "ipython",
    "version": 3
   },
   "file_extension": ".py",
   "mimetype": "text/x-python",
   "name": "python",
   "nbconvert_exporter": "python",
   "pygments_lexer": "ipython3",
   "version": "3.10.8"
  }
 },
 "nbformat": 4,
 "nbformat_minor": 5
}
