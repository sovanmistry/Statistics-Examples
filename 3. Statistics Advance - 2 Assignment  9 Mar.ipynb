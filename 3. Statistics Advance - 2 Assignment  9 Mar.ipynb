{
 "cells": [
  {
   "cell_type": "markdown",
   "id": "cf898c3f-4b20-4acb-8a2f-2620d4f6ae21",
   "metadata": {},
   "source": [
    "                                                9 Mar Assignments - Statistics Advance -2 "
   ]
  },
  {
   "cell_type": "markdown",
   "id": "63d9c432-8bf4-427f-93c9-cd0e61233770",
   "metadata": {},
   "source": [
    "Q1: What are the Probability Mass Function (PMF) and Probability Density Function (PDF)? Explain with\n",
    "an example.\n"
   ]
  },
  {
   "cell_type": "markdown",
   "id": "71293c75-32d1-4708-aa42-63b4d731e8de",
   "metadata": {},
   "source": [
    "ans: \n",
    "    \n",
    "    PMF: gives probability of specific outcome\n",
    "    e.g: rolling a die\n",
    "    pr(x<=4) = 2/3\n",
    "    \n",
    "    PDF: gives probability density of an outcome\n",
    "    e.g: height of students in a classroom - \n",
    "    pr(X<155) : it gives us area under the curve of the students having height <155"
   ]
  },
  {
   "cell_type": "code",
   "execution_count": null,
   "id": "96ff6954-97c3-46eb-a475-d5118dc7c49c",
   "metadata": {},
   "outputs": [],
   "source": [
    "\n",
    "\n"
   ]
  },
  {
   "cell_type": "markdown",
   "id": "0cf51fcb-af23-4509-b056-b03f6761a088",
   "metadata": {},
   "source": [
    "Q2: What is Cumulative Density Function (CDF)? Explain with an example. Why CDF is used?\n"
   ]
  },
  {
   "cell_type": "markdown",
   "id": "bd4fdddb-1ad0-435b-8a05-ea9e0f2f4c17",
   "metadata": {},
   "source": [
    "Ans: \n",
    "    \n",
    "    CDF: CDF is cumulative probabilty up to a specific value\\\n",
    "    \n",
    "    eg: lets x is a random variable between a range from 1 to 10. \n",
    "        through CDF we can found the probability of X lies between 2 and 5 : pr(2<=X<=5)\n",
    "        \n",
    "    it used to find the area under the curve, based on this we can prefict a situation for both continious and discrete random variable."
   ]
  },
  {
   "cell_type": "code",
   "execution_count": null,
   "id": "d059a238-2577-41f2-8e56-ddf2d1c159fb",
   "metadata": {},
   "outputs": [],
   "source": [
    "\n",
    "\n"
   ]
  },
  {
   "cell_type": "markdown",
   "id": "886cc244-ba30-4866-98b9-6c18cd2cf79a",
   "metadata": {},
   "source": [
    "Q3: What are some examples of situations where the normal distribution might be used as a model?\n",
    "Explain how the parameters of the normal distribution relate to the shape of the distribution.\n"
   ]
  },
  {
   "cell_type": "markdown",
   "id": "79928765-9369-4d60-a826-0b3448d95c43",
   "metadata": {},
   "source": [
    "ans: \n",
    "    \n",
    "    suppose we have a average IQ of 100 with std deviation of 15. from Normal Distribution model we can predict the population which    falls under or over a particular IQ( e.g: less than 85)\n",
    "    \n",
    "    we need population mean\n",
    "    std deviation \n",
    "    shape is bell shape\n",
    "    "
   ]
  },
  {
   "cell_type": "code",
   "execution_count": null,
   "id": "6bfd551d-4787-490e-8e30-fdc4856c332a",
   "metadata": {},
   "outputs": [],
   "source": [
    "\n",
    "\n"
   ]
  },
  {
   "cell_type": "markdown",
   "id": "f90aacce-9a9c-478a-aea0-f5c12a4e13ca",
   "metadata": {},
   "source": [
    "Q4: Explain the importance of Normal Distribution. Give a few real-life examples of Normal\n",
    "Distribution."
   ]
  },
  {
   "cell_type": "markdown",
   "id": "caef3c89-f44e-429a-aab3-d046a99ac4f6",
   "metadata": {},
   "source": [
    "ans: \n",
    "\n",
    "importance of Normal Distribution:\n",
    "    It is important to understand and estimate the probability distribution of your target variable.\n",
    "\n",
    "\n",
    "Real life eg:\n",
    "    Height of a population\n",
    "    Blood pressure of adult human\n",
    "    Position of a particle that experiences diffusion\n",
    "    Measurement errors"
   ]
  },
  {
   "cell_type": "code",
   "execution_count": null,
   "id": "be6b2afe-d4fe-4d85-a9b6-13c408ef0ac0",
   "metadata": {},
   "outputs": [],
   "source": [
    "\n",
    "\n"
   ]
  },
  {
   "cell_type": "markdown",
   "id": "ee8e87f9-29e8-4874-8769-e72b70a16e67",
   "metadata": {},
   "source": [
    "Q5: What is Bernaulli Distribution? Give an Example. What is the difference between Bernoulli\n",
    "Distribution and Binomial Distribution?"
   ]
  },
  {
   "cell_type": "markdown",
   "id": "fb62be29-5336-4c33-b920-bf610a12bb62",
   "metadata": {},
   "source": [
    "Ans: \n",
    "\n",
    "Bernaulli's Distribution gives the result in binary i.e 0 or 1 \n",
    "our experiment should have only two possible outcomes .\n",
    "e.g tossing a coin\n",
    "\n",
    "Binomial distribution finds x no of success rate in n trials "
   ]
  },
  {
   "cell_type": "markdown",
   "id": "0090b150-bc95-4e2f-b8a4-00e57150e278",
   "metadata": {},
   "source": [
    "\n",
    "\n"
   ]
  },
  {
   "cell_type": "markdown",
   "id": "88be3a9d-dedb-46c2-94a7-7dbcb69ef704",
   "metadata": {},
   "source": [
    "Q6. Consider a dataset with a mean of 50 and a standard deviation of 10. If we assume that the dataset\n",
    "is normally distributed, what is the probability that a randomly selected observation will be greater\n",
    "than 60? Use the appropriate formula and show your calculations.\n"
   ]
  },
  {
   "cell_type": "markdown",
   "id": "dd76d8de-44a8-4e6a-82a8-bfa021a04768",
   "metadata": {},
   "source": [
    "m = 50\n",
    "std = 10\n",
    "pr(>60)\n"
   ]
  },
  {
   "cell_type": "code",
   "execution_count": 3,
   "id": "ecbf50de-8aaf-461d-8bfc-cc12153d3f6f",
   "metadata": {},
   "outputs": [
    {
     "data": {
      "text/plain": [
       "1.5"
      ]
     },
     "execution_count": 3,
     "metadata": {},
     "output_type": "execute_result"
    }
   ],
   "source": [
    "z_score = (65-50)/10\n",
    "z_score"
   ]
  },
  {
   "cell_type": "code",
   "execution_count": 6,
   "id": "75cd3720-634e-4585-a16d-aab155f925f1",
   "metadata": {},
   "outputs": [],
   "source": [
    "Z_value = 0.9332"
   ]
  },
  {
   "cell_type": "code",
   "execution_count": 9,
   "id": "7aacde85-9c40-43bc-ac86-5700ca5bdeef",
   "metadata": {},
   "outputs": [
    {
     "data": {
      "text/plain": [
       "0.06679999999999997"
      ]
     },
     "execution_count": 9,
     "metadata": {},
     "output_type": "execute_result"
    }
   ],
   "source": [
    "Area_under_curve = 1-Z_value\n",
    "Area_under_curve"
   ]
  },
  {
   "cell_type": "markdown",
   "id": "0121bc0a-1a9b-47bb-89b7-9dff503fb5f4",
   "metadata": {},
   "source": [
    "i.e 6.6% chance of selected observationas re greater than 60"
   ]
  },
  {
   "cell_type": "code",
   "execution_count": null,
   "id": "a6c29039-76cf-4cd6-8409-bef4975983e1",
   "metadata": {},
   "outputs": [],
   "source": [
    "\n",
    "\n"
   ]
  },
  {
   "cell_type": "markdown",
   "id": "7b16bf76-2dae-4b24-9a0c-bc31b5cecc51",
   "metadata": {},
   "source": [
    "Q7: Explain uniform Distribution with an example.\n"
   ]
  },
  {
   "cell_type": "markdown",
   "id": "0ff697de-0bfc-4ccb-95e2-84634e0ba304",
   "metadata": {},
   "source": [
    "ans : \n",
    "\n",
    "In statistics, uniform distribution refers to a type of probability distribution in which all outcomes are equally likely.\n",
    "\n",
    "eg: \n",
    "A deck of cards has within it uniform distributions because the likelihood of drawing a heart, a club, a diamond, or a spade is equally likely. A coin also has a uniform distribution because the probability of getting either heads or tails in a coin toss is the same. "
   ]
  },
  {
   "cell_type": "code",
   "execution_count": null,
   "id": "250f1abe-1998-430f-aa36-31b77f9eec0f",
   "metadata": {},
   "outputs": [],
   "source": [
    "\n",
    "\n",
    "\n"
   ]
  },
  {
   "cell_type": "markdown",
   "id": "133668db-a3f1-4d6d-a424-ae36c1f71723",
   "metadata": {},
   "source": [
    "Q8: What is the z score? State the importance of the z score.\n",
    "\n",
    "ans:\n",
    "    \n",
    "    Zscore: A z-score is important because it tells where your data lies in the data distribution.\n",
    "    \n",
    "    For example, if a z-score is 1.5, it is 1.5 standard deviations away from the mean.\n",
    "    \n",
    "    \n",
    "    Importance : The z-score will tell us how many standard deviations above or below the mean does a value lie."
   ]
  },
  {
   "cell_type": "code",
   "execution_count": null,
   "id": "a621a10e-a190-46cd-b2c8-77193e24a25b",
   "metadata": {},
   "outputs": [],
   "source": [
    "\n",
    "\n"
   ]
  },
  {
   "cell_type": "markdown",
   "id": "41f78c96-8e3d-4272-882a-be718a8ae084",
   "metadata": {},
   "source": [
    "Q9: What is Central Limit Theorem? State the significance of the Central Limit Theorem.\n",
    "\n",
    "ans: \n",
    "    \n",
    "CLT:\n",
    "    Population can be any fall under any type of distribution but the sampling distribution of mean will always be normally distributed.\n",
    "\n",
    "significance: \n",
    "      \n",
    "    Political/election polling is a great example of how you can use CLT. These polls are used to estimate the number of people who support a specific candidate. You may have seen these results with confidence intervals on news channels. The CLT aids in this calculation.\n",
    "    You use the CLT in various census fields to calculate various population details, such as family income, electricity consumption, individual salaries, and so on.\n"
   ]
  },
  {
   "cell_type": "code",
   "execution_count": null,
   "id": "e9491044-a330-401c-aee1-0493fa6e5586",
   "metadata": {},
   "outputs": [],
   "source": [
    "\n",
    "\n"
   ]
  },
  {
   "cell_type": "code",
   "execution_count": null,
   "id": "cab869b9-3df8-472b-9adc-35018aadd71f",
   "metadata": {},
   "outputs": [],
   "source": [
    "Q10: State the assumptions of the Central Limit Theorem.\n",
    "\n",
    "ans: \n",
    "    \n",
    "    The data must adhere to the randomization rule. It needs to be sampled at random.\n",
    "    The samples should be unrelated to one another. One sample should not impact the others.\n",
    "    When taking samples without replacement, the sample size should not exceed 10% of the population.\n",
    "\n",
    "When the population is symmetric, a sample size of 30 is generally considered reasonable. "
   ]
  }
 ],
 "metadata": {
  "kernelspec": {
   "display_name": "Python 3 (ipykernel)",
   "language": "python",
   "name": "python3"
  },
  "language_info": {
   "codemirror_mode": {
    "name": "ipython",
    "version": 3
   },
   "file_extension": ".py",
   "mimetype": "text/x-python",
   "name": "python",
   "nbconvert_exporter": "python",
   "pygments_lexer": "ipython3",
   "version": "3.10.8"
  }
 },
 "nbformat": 4,
 "nbformat_minor": 5
}
