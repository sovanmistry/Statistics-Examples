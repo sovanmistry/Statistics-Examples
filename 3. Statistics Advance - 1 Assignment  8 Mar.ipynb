{
 "cells": [
  {
   "cell_type": "markdown",
   "id": "a49623be-ad95-40c7-96d8-5a4a0936b831",
   "metadata": {},
   "source": [
    "                                                8 Mar Assignments Statistics Advance - 1 "
   ]
  },
  {
   "cell_type": "markdown",
   "id": "5ed69c3d-aec4-43ad-a9bf-65c1f0d15789",
   "metadata": {},
   "source": [
    "Q1. What is the Probability density function?\n"
   ]
  },
  {
   "cell_type": "markdown",
   "id": "a1f6bf33-36b8-4f6b-98c7-8a4402aec64d",
   "metadata": {},
   "source": [
    "Ans: \n",
    "    \n",
    "PDF is used to specify the probability of the continious random variable falling within a particular range of values.\n",
    "it is given by the area under the density function but above the horizontal axis and between the lowest and greatest values of the range. The probability density function is nonnegative everywhere, and the area under the entire curve is equal to 1."
   ]
  },
  {
   "cell_type": "code",
   "execution_count": null,
   "id": "393efd6b-0026-474f-a0f1-aa986449e926",
   "metadata": {},
   "outputs": [],
   "source": [
    "\n",
    "\n"
   ]
  },
  {
   "cell_type": "markdown",
   "id": "39fe1d90-065d-4460-b2bb-d0b5c6d0ff7e",
   "metadata": {},
   "source": [
    "Q2. What are the types of Probability distribution?\n",
    "\n",
    "ans: \n",
    "\n",
    "2 types\n",
    "1. discrete distribution (pmf)\n",
    "2. Random distribution (pdf)"
   ]
  },
  {
   "cell_type": "code",
   "execution_count": null,
   "id": "fa1f550a-56c7-4b24-8151-d1728c9326af",
   "metadata": {},
   "outputs": [],
   "source": [
    "\n",
    "\n"
   ]
  },
  {
   "cell_type": "markdown",
   "id": "ebe65431-beed-483f-9ef9-9f4b32fbdf0c",
   "metadata": {},
   "source": [
    "Q3. Write a Python function to calculate the probability density function of a normal distribution with\n",
    "given mean and standard deviation at a given point.\n"
   ]
  },
  {
   "cell_type": "code",
   "execution_count": 10,
   "id": "29fa23a7-663e-4ce1-ad42-cc7f20f7eac6",
   "metadata": {},
   "outputs": [],
   "source": [
    "import scipy.stats as stat\n",
    "import math"
   ]
  },
  {
   "cell_type": "code",
   "execution_count": 14,
   "id": "1dbf7e88-bda5-4264-94e2-a29bb972979f",
   "metadata": {},
   "outputs": [],
   "source": [
    "def prob_density_function(m, sigma, x):\n",
    "    p = 1/(sigma*math.sqrt(2*math.pi)) * math.exp(-(x - m)*(x - m)/2*sigma*sigma)\n",
    "    return p "
   ]
  },
  {
   "cell_type": "code",
   "execution_count": 16,
   "id": "a495cca6-21eb-4037-8c56-1bd69c00dec4",
   "metadata": {},
   "outputs": [
    {
     "data": {
      "text/plain": [
       "8.731831283793883e-223"
      ]
     },
     "execution_count": 16,
     "metadata": {},
     "output_type": "execute_result"
    }
   ],
   "source": [
    "prob_density_function(0, 0.2, 160)"
   ]
  },
  {
   "cell_type": "code",
   "execution_count": null,
   "id": "f1106628-b2af-427b-86a7-b56b0b9ffe4f",
   "metadata": {},
   "outputs": [],
   "source": [
    "\n",
    "\n",
    "\n"
   ]
  },
  {
   "cell_type": "markdown",
   "id": "651c1ea0-b7f2-44bf-bd3b-657c5b66b147",
   "metadata": {},
   "source": [
    "Q4. What are the properties of Binomial distribution? Give two examples of events where binomial\n",
    "distribution can be applied.\n",
    "\n",
    "\n",
    "ans: \n",
    "\n",
    "1. it helps us to observe x success in n trials\n",
    "2. works only with dicrete random variables\n",
    "3. outcome is in binary only. i.e 1 or 0 \n",
    "\n",
    "eg:\n",
    "\n",
    "1. Roll a die 5 times, chances of getting 3 , 2 times?\n",
    "2. toss a coin 10 times, chances of getting head, 7 times?\n",
    "\n",
    "\n"
   ]
  },
  {
   "cell_type": "code",
   "execution_count": null,
   "id": "4881e18b-e8f1-4f39-99f3-2b2ffec9e85d",
   "metadata": {},
   "outputs": [],
   "source": [
    "\n",
    "\n"
   ]
  },
  {
   "cell_type": "markdown",
   "id": "cfcb0e4b-4432-444c-bc66-8c138473166b",
   "metadata": {},
   "source": [
    "Q5. Generate a random sample of size 1000 from a binomial distribution with probability of success 0.4\n",
    "and plot a histogram of the results using matplotlib.\n"
   ]
  },
  {
   "cell_type": "code",
   "execution_count": 17,
   "id": "faafbf14-a5e5-41a4-88db-f57b5b18c193",
   "metadata": {},
   "outputs": [
    {
     "data": {
      "text/plain": [
       "(array([598.,   0.,   0.,   0.,   0.,   0.,   0.,   0.,   0., 402.]),\n",
       " array([0. , 0.1, 0.2, 0.3, 0.4, 0.5, 0.6, 0.7, 0.8, 0.9, 1. ]),\n",
       " <BarContainer object of 10 artists>)"
      ]
     },
     "execution_count": 17,
     "metadata": {},
     "output_type": "execute_result"
    },
    {
     "data": {
      "image/png": "[encoded data removed]",
      "text/plain": [
       "<Figure size 640x480 with 1 Axes>"
      ]
     },
     "metadata": {},
     "output_type": "display_data"
    }
   ],
   "source": [
    "x = np.random.binomial(1, 0.4, 1000)\n",
    "import matplotlib.pyplot as plt\n",
    "plt.hist(x)"
   ]
  },
  {
   "cell_type": "code",
   "execution_count": null,
   "id": "b00dec9d-5669-489c-87a4-1e30d9ec1d6c",
   "metadata": {},
   "outputs": [],
   "source": [
    "\n",
    "\n",
    "\n"
   ]
  },
  {
   "cell_type": "markdown",
   "id": "65f4e076-522f-4c3e-a2f2-855dd5a9a5c3",
   "metadata": {},
   "source": [
    "Q6. Write a Python function to calculate the cumulative distribution function of a Poisson distribution\n",
    "with given mean at a given point.\n"
   ]
  },
  {
   "cell_type": "code",
   "execution_count": 20,
   "id": "181a5a37-12c0-4903-b9ea-57cc6afff3b7",
   "metadata": {},
   "outputs": [],
   "source": [
    "from scipy.stats import poisson"
   ]
  },
  {
   "cell_type": "code",
   "execution_count": 24,
   "id": "10e09991-3a7c-451e-a1b6-6b647188bda0",
   "metadata": {},
   "outputs": [],
   "source": [
    "def dis_fun(expected, mean):\n",
    "    pmf = poisson.pmf(expected, mean)\n",
    "    cdf = poisson.cdf(expected, mean)\n",
    "    print(\"pmf on expected value\", pmf)\n",
    "    print(\"cdf till expected value : area under the curve\", cdf)"
   ]
  },
  {
   "cell_type": "code",
   "execution_count": 26,
   "id": "bb9b103d-82dd-4ac8-be37-e1a2bbe1de36",
   "metadata": {},
   "outputs": [
    {
     "name": "stdout",
     "output_type": "stream",
     "text": [
      "pmf on expected value 0.057252288495362\n",
      "cdf till expected value : area under the curve 0.09963240048704596\n"
     ]
    }
   ],
   "source": [
    "dis_fun(4,8)"
   ]
  },
  {
   "cell_type": "code",
   "execution_count": null,
   "id": "cd5cead4-8c26-40af-bf7c-a113f7e1c396",
   "metadata": {},
   "outputs": [],
   "source": [
    "\n",
    "\n",
    "\n"
   ]
  },
  {
   "cell_type": "markdown",
   "id": "bf44fcc8-9f35-4173-b67f-b300e5eac216",
   "metadata": {},
   "source": [
    "Q7. How Binomial distribution different from Poisson distribution?\n"
   ]
  },
  {
   "cell_type": "markdown",
   "id": "d18b64b9-3064-41f6-8325-548630295a70",
   "metadata": {},
   "source": [
    "ans : \n",
    "    \n",
    "\n",
    "Binomial distrubution helps to find x success in n trials\n",
    "\n",
    "Poisson distribution helps to finx x success in n time interval"
   ]
  },
  {
   "cell_type": "code",
   "execution_count": null,
   "id": "1d4757c2-f83f-4131-bf15-3b54d01f47f9",
   "metadata": {},
   "outputs": [],
   "source": [
    "\n",
    "\n",
    "\n"
   ]
  },
  {
   "cell_type": "markdown",
   "id": "319e3c75-3c72-4265-aa62-f3bb80f92e1f",
   "metadata": {},
   "source": [
    "Q8. Generate a random sample of size 1000 from a Poisson distribution with mean 5 and calculate the\n",
    "sample mean and variance.\n"
   ]
  },
  {
   "cell_type": "code",
   "execution_count": 30,
   "id": "9ed435bb-34cf-4aca-b115-666a77f97077",
   "metadata": {},
   "outputs": [
    {
     "data": {
      "text/plain": [
       "5.012"
      ]
     },
     "execution_count": 30,
     "metadata": {},
     "output_type": "execute_result"
    }
   ],
   "source": [
    "x8 = np.random.poisson(lam = 5, size = 1000)\n",
    "np.mean(x8)"
   ]
  },
  {
   "cell_type": "code",
   "execution_count": 32,
   "id": "684c63fd-059d-4fee-b6d2-1c0219998cc9",
   "metadata": {},
   "outputs": [
    {
     "data": {
      "text/plain": [
       "5.679856"
      ]
     },
     "execution_count": 32,
     "metadata": {},
     "output_type": "execute_result"
    }
   ],
   "source": [
    "np.var(x8)"
   ]
  },
  {
   "cell_type": "code",
   "execution_count": null,
   "id": "01b51ae9-9b20-45a4-b44f-e509a3cdf9c9",
   "metadata": {},
   "outputs": [],
   "source": [
    "\n",
    "\n"
   ]
  },
  {
   "cell_type": "markdown",
   "id": "fe0f0e0d-6d66-44b2-9dcc-935320062768",
   "metadata": {},
   "source": [
    "Q9. How mean and variance are related in Binomial distribution and Poisson distribution?\n"
   ]
  },
  {
   "cell_type": "markdown",
   "id": "96b61667-3779-403e-9f70-b15e1a1ed752",
   "metadata": {},
   "source": [
    "ans: \n",
    "\n",
    "Binomial distribution:\n",
    "    n = no of trials\n",
    "    p = success probability\n",
    "    q = 1-p\n",
    "\n",
    "    mean = n*p\n",
    "    variance = n*p*q\n",
    "\n",
    "\n",
    "\n",
    "poission distribution: \n",
    "    lambda = expected no of events occurs every time interval\n",
    "\n",
    "    mean = lambda * time\n",
    "    variance = lambda\n"
   ]
  },
  {
   "cell_type": "code",
   "execution_count": null,
   "id": "84e2af6a-d721-478b-a0ea-4707b2ed1172",
   "metadata": {},
   "outputs": [],
   "source": [
    "\n",
    "\n",
    "\n"
   ]
  },
  {
   "cell_type": "markdown",
   "id": "77323a36-7ae6-4205-8ab9-4882fa628163",
   "metadata": {},
   "source": [
    "Q10. In normal distribution with respect to mean position, where does the least frequent data appear?"
   ]
  },
  {
   "cell_type": "markdown",
   "id": "2e08fb5e-2c21-4a73-97bf-983b8ad7e82b",
   "metadata": {},
   "source": [
    "ans: \n",
    "    \n",
    "extreme left or extreme right"
   ]
  }
 ],
 "metadata": {
  "kernelspec": {
   "display_name": "Python 3 (ipykernel)",
   "language": "python",
   "name": "python3"
  },
  "language_info": {
   "codemirror_mode": {
    "name": "ipython",
    "version": 3
   },
   "file_extension": ".py",
   "mimetype": "text/x-python",
   "name": "python",
   "nbconvert_exporter": "python",
   "pygments_lexer": "ipython3",
   "version": "3.10.8"
  }
 },
 "nbformat": 4,
 "nbformat_minor": 5
}
