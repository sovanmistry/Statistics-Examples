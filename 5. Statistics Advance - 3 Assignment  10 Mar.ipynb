{
 "cells": [
  {
   "cell_type": "markdown",
   "id": "201a704a-08a0-4fa5-8c08-74eee95a47b3",
   "metadata": {},
   "source": [
    "                                    10 Mar Assignments Statistics advance - 3"
   ]
  },
  {
   "cell_type": "markdown",
   "id": "b5c39076-2283-4983-a499-2903db429909",
   "metadata": {},
   "source": [
    "Q1: What is Estimation Statistics? Explain point estimate and interval estimate.\n",
    "\n",
    "ans:\n",
    "    \n",
    "    Estimation Statistics: with the help of observed numerical value, it helps us to predict the unknown population parameter\n",
    "    \n",
    "    point estimate : single numerical value used to estimate the unknown population\n",
    "        \n",
    "    Interval estimate : Range of values used to estimate the unknown population"
   ]
  },
  {
   "cell_type": "code",
   "execution_count": null,
   "id": "d8cd6c04-ec0e-4334-9651-eef4788697bc",
   "metadata": {},
   "outputs": [],
   "source": [
    "\n",
    "\n"
   ]
  },
  {
   "cell_type": "markdown",
   "id": "a57755e5-3ea1-47e4-ad56-9193bccc817b",
   "metadata": {},
   "source": [
    "Q2. Write a Python function to estimate the population mean using a sample mean and standard\n",
    "deviation.\n"
   ]
  },
  {
   "cell_type": "code",
   "execution_count": 2,
   "id": "8c55fe3c-11d3-4cf6-b71a-55abcd1c191e",
   "metadata": {},
   "outputs": [],
   "source": [
    "def Estimate_population_mean(sample_mean, std_deviation):\n",
    "    low_range = sample_mean - std_deviation\n",
    "    upper_range = sample_mean + std_deviation\n",
    "    \n",
    "    print(\"Population Mean lies between\", low_range, \" and \", upper_range)"
   ]
  },
  {
   "cell_type": "code",
   "execution_count": 5,
   "id": "c63acdd8-02d0-4102-9d52-9160438eaee2",
   "metadata": {},
   "outputs": [
    {
     "name": "stdout",
     "output_type": "stream",
     "text": [
      "Population Mean lies between 45  and  55\n"
     ]
    }
   ],
   "source": [
    " \n",
    "sample_mean = 50\n",
    "std_deviation = 5\n",
    "Estimate_population_mean(sample_mean, std_deviation)\n"
   ]
  },
  {
   "cell_type": "code",
   "execution_count": null,
   "id": "7d8daf3c-5467-45b9-a426-e9977f6e587b",
   "metadata": {},
   "outputs": [],
   "source": [
    "\n",
    "\n",
    "\n"
   ]
  },
  {
   "cell_type": "markdown",
   "id": "5e34a748-461b-4038-b5c7-7d8a3252445a",
   "metadata": {},
   "source": [
    "Q3: What is Hypothesis testing? Why is it used? State the importance of Hypothesis testing.\n"
   ]
  },
  {
   "cell_type": "markdown",
   "id": "527fcb6e-c02b-44ac-94db-d59b3c9099b4",
   "metadata": {},
   "source": [
    "Ans: \n",
    "\n",
    "Definition: \n",
    "it's an observed numerical value helps us to provide a conclusion or Inferences.\n",
    "\n",
    "Used for :\n",
    "to predict a conclusion on our assumption is correct or not\n",
    "\n",
    "\n",
    "Importance: \n",
    "It helps us to decide if something really happened, or if certain treatments have positive effects, or if groups differ from each other or if one variable predicts another. In short, you want to proof if your data is statistically significant and unlikely to have occurred by chance alone. In essence then, a hypothesis test is a test of significance."
   ]
  },
  {
   "cell_type": "code",
   "execution_count": null,
   "id": "ff5e1dc9-fc6b-460e-a0b1-65b20dba65a4",
   "metadata": {},
   "outputs": [],
   "source": [
    "\n",
    "\n"
   ]
  },
  {
   "cell_type": "markdown",
   "id": "c6c1f34d-f480-4992-ab2f-c24a4dc8878e",
   "metadata": {},
   "source": [
    "Q4. Create a hypothesis that states whether the average weight of male college students is greater than\n",
    "the average weight of female college students.\n"
   ]
  },
  {
   "cell_type": "markdown",
   "id": "b297daeb-116f-4290-9170-b306b17ea1d4",
   "metadata": {},
   "source": [
    "Ans:"
   ]
  },
  {
   "cell_type": "markdown",
   "id": "7a0fb3e0-6743-4ee7-bc95-6ff71347cef2",
   "metadata": {},
   "source": [
    "Null Hypothesis(H0) : avg weight(male) > avg weight(female)\n",
    "Alternate Hypothesis : avg weight(male) < avg weight(female)"
   ]
  },
  {
   "cell_type": "code",
   "execution_count": null,
   "id": "93a01e0d-8bdc-45ed-bf43-428b440b4ffb",
   "metadata": {},
   "outputs": [],
   "source": [
    "\n",
    "\n"
   ]
  },
  {
   "cell_type": "markdown",
   "id": "f4752fb7-5e46-4ab3-b6a2-97c9f9cee974",
   "metadata": {},
   "source": [
    "Q5. Write a Python script to conduct a hypothesis test on the difference between two population means,\n",
    "given a sample from each population.\n"
   ]
  },
  {
   "cell_type": "code",
   "execution_count": 17,
   "id": "72aa5906-dcda-4b11-9092-4e1665d8be56",
   "metadata": {},
   "outputs": [],
   "source": [
    "data1 = [4,5,7,6,8,14,2]\n",
    "data2 = [6,7,4,7,6,9,72]"
   ]
  },
  {
   "cell_type": "code",
   "execution_count": 18,
   "id": "ee0e4f76-d168-49ea-af0a-75dc5e6e7df6",
   "metadata": {},
   "outputs": [],
   "source": [
    "import numpy as np\n",
    "import scipy.stats as stat\n",
    "\n",
    "a = np.mean(data1)\n",
    "b = np.mean(data2)"
   ]
  },
  {
   "cell_type": "code",
   "execution_count": 20,
   "id": "cda8a703-a2cd-4909-be36-6fdbe2962992",
   "metadata": {},
   "outputs": [
    {
     "name": "stdout",
     "output_type": "stream",
     "text": [
      "the difference between two population means :  9.285714285714286\n"
     ]
    }
   ],
   "source": [
    "if b-a<0:\n",
    "    c = -1*(b-a)\n",
    "\n",
    "else:\n",
    "    c = b-a\n",
    "    \n",
    "print(\"the difference between two population means : \", c)"
   ]
  },
  {
   "cell_type": "code",
   "execution_count": null,
   "id": "4d931438-ad3b-4fe8-9975-83f78df41632",
   "metadata": {},
   "outputs": [],
   "source": [
    "\n",
    "\n",
    "\n"
   ]
  },
  {
   "cell_type": "markdown",
   "id": "577413e0-67a9-415a-92de-1a31cf2a1845",
   "metadata": {},
   "source": [
    "Q6: What is a null and alternative hypothesis? Give some examples.\n"
   ]
  },
  {
   "cell_type": "markdown",
   "id": "463c91eb-f1cb-472e-8de1-134ff212bd75",
   "metadata": {},
   "source": [
    "Null Hypothesis(H0) : the assumption we are beginning with (<=, = , >=)\n",
    "\n",
    "Alternative Hypothesis(H1):  opposite of H0 (>, !=. <)\n",
    "\n",
    "e.g: \n",
    "    1. product has avg price of 45.\n",
    "       \n",
    "       H0 : pr(Price = 45)\n",
    "       H1 : Pr(price != 45)\n",
    "    \n",
    "    2. preparation of course improve test score\n",
    "    H0: old_score<New_score\n",
    "    H1: old_score>New_score"
   ]
  },
  {
   "cell_type": "code",
   "execution_count": null,
   "id": "75bccf96-8a91-4acf-9b9e-6cfc650eab8b",
   "metadata": {},
   "outputs": [],
   "source": [
    "\n",
    "\n"
   ]
  },
  {
   "cell_type": "markdown",
   "id": "a6843bef-ae12-4281-bfe2-2b8f1749c7df",
   "metadata": {},
   "source": [
    "Q7: Write down the steps involved in hypothesis testing.\n",
    "\n",
    "ans: \n",
    "    \n",
    "    1. Hull Hypothesis\n",
    "    2. Alternate Hypothesis\n",
    "    3. CI, Alpha\n",
    "    4. Statistical Analysis\n",
    "    5. compare P value with Significance Level"
   ]
  },
  {
   "cell_type": "code",
   "execution_count": null,
   "id": "cc8298df-ed00-4619-8f5e-102bb7b1aa9a",
   "metadata": {},
   "outputs": [],
   "source": [
    "\n",
    "\n"
   ]
  },
  {
   "cell_type": "markdown",
   "id": "f3375b6d-00ca-4a87-a54f-6d798d630e99",
   "metadata": {},
   "source": [
    "Q8. Define p-value and explain its significance in hypothesis testing.\n",
    "\n",
    "ans:\n",
    "    \n",
    "    \n",
    "    The p value is a number, calculated from a statistical test, that describes how likely you are to have found a particular set of observations if the null hypothesis were true. P values are used in hypothesis testing to help decide whether to reject the null hypothesis"
   ]
  },
  {
   "cell_type": "markdown",
   "id": "ee9e4bf9-e961-48ca-b425-8eefd773fc63",
   "metadata": {},
   "source": [
    "significance of p value :\n",
    "    it help us to rejct or failed to reject null hypothesis."
   ]
  },
  {
   "cell_type": "code",
   "execution_count": null,
   "id": "8b1e144c-afee-40b3-9100-a696610a09dc",
   "metadata": {},
   "outputs": [],
   "source": [
    "\n",
    "\n"
   ]
  },
  {
   "cell_type": "markdown",
   "id": "8693b7e0-c79f-4303-8434-9c97ccbc3b88",
   "metadata": {},
   "source": [
    "Q9. Generate a Student's t-distribution plot using Python's matplotlib library, with the degrees of freedom\n",
    "parameter set to 10.\n"
   ]
  },
  {
   "cell_type": "code",
   "execution_count": 34,
   "id": "5d5f2001-2ddb-44aa-a899-5c23f71e4843",
   "metadata": {},
   "outputs": [],
   "source": [
    "import numpy as np\n",
    "import pandas as pd\n",
    "import scipy.stats as stats"
   ]
  },
  {
   "cell_type": "code",
   "execution_count": 37,
   "id": "5b6d0925-d6d4-4a2f-8af5-1ed705dd3825",
   "metadata": {},
   "outputs": [
    {
     "ename": "TypeError",
     "evalue": "_parse_args_rvs() missing 1 required positional argument: 'mu'",
     "output_type": "error",
     "traceback": [
      "\u001b[0;31m---------------------------------------------------------------------------\u001b[0m",
      "\u001b[0;31mTypeError\u001b[0m                                 Traceback (most recent call last)",
      "Cell \u001b[0;32mIn[37], line 1\u001b[0m\n\u001b[0;32m----> 1\u001b[0m school_age \u001b[38;5;241m=\u001b[39m \u001b[43mstats\u001b[49m\u001b[38;5;241;43m.\u001b[39;49m\u001b[43mpoisson\u001b[49m\u001b[38;5;241;43m.\u001b[39;49m\u001b[43mrvs\u001b[49m\u001b[43m(\u001b[49m\u001b[43mloc\u001b[49m\u001b[43m \u001b[49m\u001b[38;5;241;43m=\u001b[39;49m\u001b[43m \u001b[49m\u001b[38;5;241;43m3\u001b[39;49m\u001b[43m,\u001b[49m\u001b[43msize\u001b[49m\u001b[43m \u001b[49m\u001b[38;5;241;43m=\u001b[39;49m\u001b[43m \u001b[49m\u001b[38;5;241;43m11\u001b[39;49m\u001b[43m)\u001b[49m\n",
      "File \u001b[0;32m/opt/conda/lib/python3.10/site-packages/scipy/stats/_distn_infrastructure.py:3335\u001b[0m, in \u001b[0;36mrv_discrete.rvs\u001b[0;34m(self, *args, **kwargs)\u001b[0m\n\u001b[1;32m   3306\u001b[0m \u001b[38;5;124;03m\"\"\"Random variates of given type.\u001b[39;00m\n\u001b[1;32m   3307\u001b[0m \n\u001b[1;32m   3308\u001b[0m \u001b[38;5;124;03mParameters\u001b[39;00m\n\u001b[0;32m   (...)\u001b[0m\n\u001b[1;32m   3332\u001b[0m \n\u001b[1;32m   3333\u001b[0m \u001b[38;5;124;03m\"\"\"\u001b[39;00m\n\u001b[1;32m   3334\u001b[0m kwargs[\u001b[38;5;124m'\u001b[39m\u001b[38;5;124mdiscrete\u001b[39m\u001b[38;5;124m'\u001b[39m] \u001b[38;5;241m=\u001b[39m \u001b[38;5;28;01mTrue\u001b[39;00m\n\u001b[0;32m-> 3335\u001b[0m \u001b[38;5;28;01mreturn\u001b[39;00m \u001b[38;5;28;43msuper\u001b[39;49m\u001b[43m(\u001b[49m\u001b[43m)\u001b[49m\u001b[38;5;241;43m.\u001b[39;49m\u001b[43mrvs\u001b[49m\u001b[43m(\u001b[49m\u001b[38;5;241;43m*\u001b[39;49m\u001b[43margs\u001b[49m\u001b[43m,\u001b[49m\u001b[43m \u001b[49m\u001b[38;5;241;43m*\u001b[39;49m\u001b[38;5;241;43m*\u001b[39;49m\u001b[43mkwargs\u001b[49m\u001b[43m)\u001b[49m\n",
      "File \u001b[0;32m/opt/conda/lib/python3.10/site-packages/scipy/stats/_distn_infrastructure.py:1058\u001b[0m, in \u001b[0;36mrv_generic.rvs\u001b[0;34m(self, *args, **kwds)\u001b[0m\n\u001b[1;32m   1056\u001b[0m discrete \u001b[38;5;241m=\u001b[39m kwds\u001b[38;5;241m.\u001b[39mpop(\u001b[38;5;124m'\u001b[39m\u001b[38;5;124mdiscrete\u001b[39m\u001b[38;5;124m'\u001b[39m, \u001b[38;5;28;01mNone\u001b[39;00m)\n\u001b[1;32m   1057\u001b[0m rndm \u001b[38;5;241m=\u001b[39m kwds\u001b[38;5;241m.\u001b[39mpop(\u001b[38;5;124m'\u001b[39m\u001b[38;5;124mrandom_state\u001b[39m\u001b[38;5;124m'\u001b[39m, \u001b[38;5;28;01mNone\u001b[39;00m)\n\u001b[0;32m-> 1058\u001b[0m args, loc, scale, size \u001b[38;5;241m=\u001b[39m \u001b[38;5;28;43mself\u001b[39;49m\u001b[38;5;241;43m.\u001b[39;49m\u001b[43m_parse_args_rvs\u001b[49m\u001b[43m(\u001b[49m\u001b[38;5;241;43m*\u001b[39;49m\u001b[43margs\u001b[49m\u001b[43m,\u001b[49m\u001b[43m \u001b[49m\u001b[38;5;241;43m*\u001b[39;49m\u001b[38;5;241;43m*\u001b[39;49m\u001b[43mkwds\u001b[49m\u001b[43m)\u001b[49m\n\u001b[1;32m   1059\u001b[0m cond \u001b[38;5;241m=\u001b[39m logical_and(\u001b[38;5;28mself\u001b[39m\u001b[38;5;241m.\u001b[39m_argcheck(\u001b[38;5;241m*\u001b[39margs), (scale \u001b[38;5;241m>\u001b[39m\u001b[38;5;241m=\u001b[39m \u001b[38;5;241m0\u001b[39m))\n\u001b[1;32m   1060\u001b[0m \u001b[38;5;28;01mif\u001b[39;00m \u001b[38;5;129;01mnot\u001b[39;00m np\u001b[38;5;241m.\u001b[39mall(cond):\n",
      "\u001b[0;31mTypeError\u001b[0m: _parse_args_rvs() missing 1 required positional argument: 'mu'"
     ]
    }
   ],
   "source": [
    "school_age = stats.poisson.rvs(loc = 3,size = 11)\n"
   ]
  },
  {
   "cell_type": "code",
   "execution_count": 36,
   "id": "2bbc5830-d7dd-4fa6-a160-fff68f18859f",
   "metadata": {},
   "outputs": [
    {
     "data": {
      "text/plain": [
       "[<matplotlib.lines.Line2D at 0x7f60325a89a0>]"
      ]
     },
     "execution_count": 36,
     "metadata": {},
     "output_type": "execute_result"
    },
    {
     "data": {
      "image/png": "[encoded data removed]",
      "text/plain": [
       "<Figure size 640x480 with 1 Axes>"
      ]
     },
     "metadata": {},
     "output_type": "display_data"
    }
   ],
   "source": [
    "import matplotlib.pyplot as plt\n",
    "\n",
    "plt.plot(school_age)\n"
   ]
  },
  {
   "cell_type": "markdown",
   "id": "819c8406-2ea7-45cb-847b-32c93757786e",
   "metadata": {},
   "source": [
    "Q10. Write a Python program to calculate the two-sample t-test for independent samples, given two\n",
    "random samples of equal size and a null hypothesis that the population means are equal.\n"
   ]
  },
  {
   "cell_type": "code",
   "execution_count": 34,
   "id": "a4264ace-8d8e-4c82-946b-699621306f80",
   "metadata": {},
   "outputs": [],
   "source": [
    "ages1 = [10,23,32,32,4,5,33,22,45,32,45,66,78,67]\n",
    "ages2 = [23,5,45,67,5,55,54,4,3,44,57,98,55,3]\n"
   ]
  },
  {
   "cell_type": "code",
   "execution_count": 20,
   "id": "28d41ea1-a952-41a0-8173-70737759b135",
   "metadata": {},
   "outputs": [
    {
     "data": {
      "text/plain": [
       "14"
      ]
     },
     "execution_count": 20,
     "metadata": {},
     "output_type": "execute_result"
    }
   ],
   "source": [
    "len(ages1)"
   ]
  },
  {
   "cell_type": "code",
   "execution_count": 7,
   "id": "f3147525-5a35-43c8-8735-26f72bbeff9d",
   "metadata": {},
   "outputs": [
    {
     "data": {
      "text/plain": [
       "14"
      ]
     },
     "execution_count": 7,
     "metadata": {},
     "output_type": "execute_result"
    }
   ],
   "source": [
    "len(ages2)"
   ]
  },
  {
   "cell_type": "code",
   "execution_count": 35,
   "id": "ed828f4a-973a-4dc0-9fdf-b2c5d1b39483",
   "metadata": {},
   "outputs": [],
   "source": [
    "import numpy as np\n",
    "a = np.mean(ages1)\n",
    "b = np.mean(ages2)\n",
    "\n"
   ]
  },
  {
   "cell_type": "code",
   "execution_count": 25,
   "id": "d6d39af0-0e46-4528-86c1-cc144028a3ac",
   "metadata": {},
   "outputs": [
    {
     "data": {
      "text/plain": [
       "35.285714285714285"
      ]
     },
     "execution_count": 25,
     "metadata": {},
     "output_type": "execute_result"
    }
   ],
   "source": [
    "a"
   ]
  },
  {
   "cell_type": "code",
   "execution_count": 26,
   "id": "5d681914-7188-4ee2-b930-1df1feec4e8d",
   "metadata": {},
   "outputs": [
    {
     "data": {
      "text/plain": [
       "666666701.2"
      ]
     },
     "execution_count": 26,
     "metadata": {},
     "output_type": "execute_result"
    }
   ],
   "source": [
    "b"
   ]
  },
  {
   "cell_type": "code",
   "execution_count": 36,
   "id": "489b7f10-187b-4f4a-8638-9d16f55c479d",
   "metadata": {},
   "outputs": [
    {
     "name": "stdout",
     "output_type": "stream",
     "text": [
      "Reject the Null Hypothesis\n"
     ]
    }
   ],
   "source": [
    "#hypothesis check\n",
    "if (a != b):\n",
    "    print(\"Reject the Null Hypothesis\")\n",
    "    \n",
    "else:\n",
    "    print(\"Failed to Reject Null Hypothesis\")\n",
    "    "
   ]
  },
  {
   "cell_type": "code",
   "execution_count": null,
   "id": "111571b8-435a-4d64-a423-1773c702ef38",
   "metadata": {},
   "outputs": [],
   "source": []
  },
  {
   "cell_type": "markdown",
   "id": "42238a48-911f-4b83-bd4d-10648f8ffee5",
   "metadata": {},
   "source": [
    "Q11: What is Student’s t distribution? When to use the t-Distribution.\n",
    "\n",
    "Ans: \n",
    "the distribution which dont need population std deviation called students t distribution.\n",
    "    \n",
    "    The t-distribution is used when data are approximately normally distributed, which means the data follow a bell shape but the population variance is unknown. The variance in a t-distribution is estimated based on the degrees of freedom of the data set (total number of observations minus 1)."
   ]
  },
  {
   "cell_type": "code",
   "execution_count": null,
   "id": "e072234f-6b29-4106-9b78-2a43ea35865f",
   "metadata": {},
   "outputs": [],
   "source": [
    "\n",
    "\n",
    "\n"
   ]
  },
  {
   "cell_type": "markdown",
   "id": "913859d7-b26f-4ebd-8a2a-5afe5d7c88fc",
   "metadata": {},
   "source": [
    "Q12: What is t-statistic? State the formula for t-statistic.\n",
    "\n",
    "\n",
    "ans: \n",
    "    \n",
    "    t-statistic is the ratio of the departure of the estimated value of a parameter from its hypothesized value to its standard error\n",
    "    \n",
    "    t = (x' - mean)/(sample std deviation/sqrt(sample size))"
   ]
  },
  {
   "cell_type": "code",
   "execution_count": null,
   "id": "04dcd965-58a3-4281-9b6f-177b3f286d2c",
   "metadata": {},
   "outputs": [],
   "source": [
    "\n",
    "\n"
   ]
  },
  {
   "cell_type": "markdown",
   "id": "ae8ce930-427a-47da-8e91-0d11d9af804e",
   "metadata": {},
   "source": [
    "Q13. A coffee shop owner wants to estimate the average daily revenue for their shop. They take a random\n",
    "sample of 50 days and find the sample mean revenue to be $500 with a standard deviation of $50.\n",
    "Estimate the population mean revenue with a 95% confidence interval.\n"
   ]
  },
  {
   "cell_type": "markdown",
   "id": "2d80e94d-a86b-4b41-a649-f7b95c927a1d",
   "metadata": {},
   "source": [
    "ans: \n",
    "\n",
    "    random sample = n = 50\n",
    "    sample mean = mu = 500\n",
    "    std dev = sigma = 50\n",
    "    CI = 95%\n",
    "    alpha = 0.05"
   ]
  },
  {
   "cell_type": "markdown",
   "id": "0f5dbfe3-d1fb-490e-92bd-28289afe0450",
   "metadata": {},
   "source": [
    "\n",
    "    area under the curve = 1-0.025\n",
    "                            = 0.975\n",
    "        \n",
    "    from Z table = margin of error on 0.975 = 1.96\n",
    "    \n",
    "    "
   ]
  },
  {
   "cell_type": "code",
   "execution_count": 5,
   "id": "1dad2c1f-54d2-46f6-bf49-bab0f0bb267d",
   "metadata": {},
   "outputs": [
    {
     "data": {
      "text/plain": [
       "486.1407070887437"
      ]
     },
     "execution_count": 5,
     "metadata": {},
     "output_type": "execute_result"
    }
   ],
   "source": [
    "import math\n",
    "Lower_CI = 500 - 1.96*(50/math.sqrt(50))\n",
    "Lower_CI"
   ]
  },
  {
   "cell_type": "code",
   "execution_count": 7,
   "id": "455f2c2e-8057-497d-9925-5f6b83e4b0c4",
   "metadata": {},
   "outputs": [
    {
     "data": {
      "text/plain": [
       "513.8592929112564"
      ]
     },
     "execution_count": 7,
     "metadata": {},
     "output_type": "execute_result"
    }
   ],
   "source": [
    "Upper_CI = 500 + 1.96*(50/math.sqrt(50))\n",
    "Upper_CI"
   ]
  },
  {
   "cell_type": "markdown",
   "id": "8a47d6e5-4d2f-4d4f-bae2-b6ce032e58a4",
   "metadata": {},
   "source": [
    "Conclusion : I am 95% confident that average daily revenue for their shop lies between 486.14 and 513.85"
   ]
  },
  {
   "cell_type": "code",
   "execution_count": null,
   "id": "e64f3458-ff62-449a-a993-a57047decd27",
   "metadata": {},
   "outputs": [],
   "source": [
    "\n",
    "\n",
    "\n"
   ]
  },
  {
   "cell_type": "markdown",
   "id": "8c8ebade-6638-4b41-9748-3d3ef3b1fe9d",
   "metadata": {},
   "source": [
    "Q14. A researcher hypothesizes that a new drug will decrease blood pressure by 10 mmHg. They conduct a\n",
    "clinical trial with 100 patients and find that the sample mean decrease in blood pressure is 8 mmHg with a\n",
    "standard deviation of 3 mmHg. Test the hypothesis with a significance level of 0.05.\n"
   ]
  },
  {
   "cell_type": "code",
   "execution_count": 10,
   "id": "c1f88ecc-0781-435d-9076-28f096ce31e4",
   "metadata": {},
   "outputs": [],
   "source": [
    "bld_prsr = mu =  10 #Null Hypothesis\n",
    "n = 100\n",
    "sample_mean = x = 8\n",
    "std_deviation = sigma = 3\n",
    "alpha = 0.05"
   ]
  },
  {
   "cell_type": "code",
   "execution_count": 9,
   "id": "ddd003a2-a1ed-4dda-8497-3bf73086912c",
   "metadata": {},
   "outputs": [
    {
     "data": {
      "text/plain": [
       "99"
      ]
     },
     "execution_count": 9,
     "metadata": {},
     "output_type": "execute_result"
    }
   ],
   "source": [
    "dof = n-1\n",
    "dof"
   ]
  },
  {
   "cell_type": "code",
   "execution_count": 14,
   "id": "e5d99bc4-7a16-49a8-8812-b2342cc20707",
   "metadata": {},
   "outputs": [
    {
     "data": {
      "text/plain": [
       "-6.666666666666667"
      ]
     },
     "execution_count": 14,
     "metadata": {},
     "output_type": "execute_result"
    }
   ],
   "source": [
    "significane_level = 1.984 #approx from t table\n",
    "\n",
    "t_test_value = (x-mu)/(sigma/math.sqrt(100))\n",
    "t_test_value"
   ]
  },
  {
   "cell_type": "code",
   "execution_count": 15,
   "id": "d72b37cc-afa0-4bf7-b3d5-539836444ae9",
   "metadata": {},
   "outputs": [
    {
     "name": "stdout",
     "output_type": "stream",
     "text": [
      "Rejecting Null Hypothesis - drug can't  decrease blood pressure by 10 mmHg.\n"
     ]
    }
   ],
   "source": [
    "if t_test_value<0 :\n",
    "    if t_test_value<significane_level:\n",
    "        print(\"Rejecting Null Hypothesis - drug can't  decrease blood pressure by 10 mmHg.\")\n",
    "    else :\n",
    "        print (\"failed to reject Null Hypothesis - drug can decrese  blood pressure by 10 mmHg.\")\n",
    "        \n",
    "else:\n",
    "    if t_test_value>significane_level:\n",
    "        print(\"Rejecting Null Hypothesis - drug can't  decrease blood pressure by 10 mmHg.\")\n",
    "    else :\n",
    "        print (\"failed to reject Null Hypothesis - drug can decrese  blood pressure by 10 mmHg.\")\n",
    "          "
   ]
  },
  {
   "cell_type": "code",
   "execution_count": null,
   "id": "63366423-244f-456e-83f0-54afeb002c23",
   "metadata": {},
   "outputs": [],
   "source": [
    "\n",
    "\n"
   ]
  },
  {
   "cell_type": "markdown",
   "id": "151c165f-d30b-4f38-acaa-8c7c951de0a4",
   "metadata": {},
   "source": [
    "Q15. An electronics company produces a certain type of product with a mean weight of 5 pounds and a\n",
    "standard deviation of 0.5 pounds. A random sample of 25 products is taken, and the sample mean weight\n",
    "is found to be 4.8 pounds. Test the hypothesis that the true mean weight of the products is less than 5\n",
    "pounds with a significance level of 0.01.\n"
   ]
  },
  {
   "cell_type": "code",
   "execution_count": 1,
   "id": "f1d159bc-31bf-4c58-9265-2e83b1d4f1dc",
   "metadata": {},
   "outputs": [],
   "source": [
    "mu = 5 \n",
    "std = 0.5 "
   ]
  },
  {
   "cell_type": "code",
   "execution_count": 2,
   "id": "badd76da-8b2a-4730-84d0-7d71855c3ed8",
   "metadata": {},
   "outputs": [],
   "source": [
    "sample_size = n = 25\n",
    "sample_mu = 4.8"
   ]
  },
  {
   "cell_type": "code",
   "execution_count": 3,
   "id": "4f12f6c4-39b3-4e74-9640-1981299d45b0",
   "metadata": {},
   "outputs": [],
   "source": [
    "# Null Hypothesis : Mean Weight of product is <= 5 pound\n",
    "# Alternate Hypothesis : Mean Weight of product is > 5 poound\n"
   ]
  },
  {
   "cell_type": "code",
   "execution_count": 5,
   "id": "890ba236-ba3a-43f6-a1cc-c89e86d585be",
   "metadata": {},
   "outputs": [
    {
     "data": {
      "text/plain": [
       "0.995"
      ]
     },
     "execution_count": 5,
     "metadata": {},
     "output_type": "execute_result"
    }
   ],
   "source": [
    "alpha = 0.01\n",
    "\n",
    "area_under_curve = 1- alpha/2\n",
    "area_under_curve"
   ]
  },
  {
   "cell_type": "code",
   "execution_count": 11,
   "id": "f2c59c87-6269-42be-941e-64cae62db70d",
   "metadata": {},
   "outputs": [],
   "source": [
    "#based on 0.995 from Z table \n",
    "z_table_score = 2.58"
   ]
  },
  {
   "cell_type": "code",
   "execution_count": 10,
   "id": "b2d57ba9-9643-4a3c-bc57-a2e0f2909b82",
   "metadata": {},
   "outputs": [
    {
     "data": {
      "text/plain": [
       "-2.0000000000000018"
      ]
     },
     "execution_count": 10,
     "metadata": {},
     "output_type": "execute_result"
    }
   ],
   "source": [
    "import math\n",
    "z_test_score = (4.8-5)/(0.5/math.sqrt(25))\n",
    "z_test_score"
   ]
  },
  {
   "cell_type": "code",
   "execution_count": 13,
   "id": "8759c1a6-a09c-4a31-bcb6-57d924048cee",
   "metadata": {},
   "outputs": [
    {
     "name": "stdout",
     "output_type": "stream",
     "text": [
      "Rejecting Null Hypothesis - weight of the products is more  than 5 pounds\n"
     ]
    }
   ],
   "source": [
    "if z_test_score<0:\n",
    "    z_table_score = z_table_score*-1\n",
    "    if z_test_score < z_table_score:\n",
    "        print(\"Rejecting Null Hypothesis - weight of the products is more  than 5 pounds\")\n",
    "    else :\n",
    "        print (\"failed to reject Null Hypothesis - weight of the products is less than 5 pounds \")\n",
    "        \n",
    "else:\n",
    "    if z_test_score > z_table_score:\n",
    "        print(\"Rejecting Null Hypothesis - weight of the products is more than 5 pounds.\")\n",
    "    else :\n",
    "        print (\"failed to reject Null Hypothesis - weight of the products is less than 5 pounds.\")\n",
    "          "
   ]
  },
  {
   "cell_type": "code",
   "execution_count": null,
   "id": "c7a57f64-eac0-4305-abdc-88fb2752305d",
   "metadata": {},
   "outputs": [],
   "source": [
    "\n",
    "\n",
    "\n"
   ]
  },
  {
   "cell_type": "markdown",
   "id": "06a7a9c7-a6c9-4f24-bf1d-1fb48ab28264",
   "metadata": {},
   "source": [
    "Q16. Two groups of students are given different study materials to prepare for a test. The first group (n1 =\n",
    "30) has a mean score of 80 with a standard deviation of 10, and the second group (n2 = 40) has a mean\n",
    "score of 75 with a standard deviation of 8. Test the hypothesis that the population means for the two\n",
    "groups are equal with a significance level of 0.01.\n"
   ]
  },
  {
   "cell_type": "code",
   "execution_count": 14,
   "id": "e053c03c-6e10-4634-ba74-be15830455f1",
   "metadata": {},
   "outputs": [],
   "source": [
    "#first Group \n",
    "n1 = 30\n",
    "mu1= 80\n",
    "std1 = 10"
   ]
  },
  {
   "cell_type": "code",
   "execution_count": 22,
   "id": "5cd56b48-2a86-44ef-854f-657de402a47b",
   "metadata": {},
   "outputs": [],
   "source": [
    "#second group\n",
    "n2 = 40\n",
    "mu2= 75\n",
    "std2 = 8"
   ]
  },
  {
   "cell_type": "code",
   "execution_count": 16,
   "id": "db0247cc-f1c5-4589-93d0-5f3507a572d8",
   "metadata": {},
   "outputs": [],
   "source": [
    "#significance level \n",
    "alpha = 0.01"
   ]
  },
  {
   "cell_type": "code",
   "execution_count": 19,
   "id": "b3f10864-a792-4658-a077-58e73853d9a6",
   "metadata": {},
   "outputs": [
    {
     "name": "stdout",
     "output_type": "stream",
     "text": [
      "lower_limit1 : 60 Upper_limit1 : 100\n"
     ]
    }
   ],
   "source": [
    "#first group \n",
    "lower_limit1 = mu1-2*std1 \n",
    "upper_limit1 = mu1+2*std1\n",
    "\n",
    "print(\"lower_limit1 :\",lower_limit , \"Upper_limit1 :\",upper_limit)"
   ]
  },
  {
   "cell_type": "code",
   "execution_count": 23,
   "id": "42beda24-6f39-4a52-8f2c-c5cb0a5a1564",
   "metadata": {},
   "outputs": [
    {
     "name": "stdout",
     "output_type": "stream",
     "text": [
      "lower_limit2 : 59 Upper_limit2 : 91\n"
     ]
    }
   ],
   "source": [
    "#second group \n",
    "lower_limit2 = mu2-2*std2 \n",
    "upper_limit2 = mu2+2*std2\n",
    "\n",
    "print(\"lower_limit2 :\",lower_limit2 , \"Upper_limit2 :\",upper_limit2)"
   ]
  },
  {
   "cell_type": "markdown",
   "id": "b07fa71f-10ba-4a5d-8013-44f8bacfd2b3",
   "metadata": {},
   "source": [
    " the population means for the two groups are equal with a significance level of 0.01"
   ]
  },
  {
   "cell_type": "code",
   "execution_count": null,
   "id": "ba23d6db-7459-4464-91ff-31c7f0ce2d42",
   "metadata": {},
   "outputs": [],
   "source": [
    "\n",
    "\n",
    "\n"
   ]
  },
  {
   "cell_type": "markdown",
   "id": "16ab4cdc-0c85-4cf2-86a2-1ab2a7f5e712",
   "metadata": {},
   "source": [
    "Q17. A marketing company wants to estimate the average number of ads watched by viewers during a TV\n",
    "program. They take a random sample of 50 viewers and find that the sample mean is 4 with a standard\n",
    "deviation of 1.5. Estimate the population mean with a 99% confidence interval."
   ]
  },
  {
   "cell_type": "code",
   "execution_count": 26,
   "id": "18959342-022d-4303-8234-3caf5f5ad141",
   "metadata": {},
   "outputs": [],
   "source": [
    "#sample size \n",
    "n = 50\n",
    "\n",
    "#sample Mean\n",
    "mu = 4\n",
    "\n",
    "std = 1.5"
   ]
  },
  {
   "cell_type": "code",
   "execution_count": 27,
   "id": "58ac557c-3e00-421b-8a58-7c31c0cc15d5",
   "metadata": {},
   "outputs": [],
   "source": [
    "ci = 0.99\n",
    "alpha = 0.01"
   ]
  },
  {
   "cell_type": "code",
   "execution_count": 28,
   "id": "78c7e618-1bc4-4ada-89d3-a2fa25dce4ee",
   "metadata": {},
   "outputs": [
    {
     "data": {
      "text/plain": [
       "0.995"
      ]
     },
     "execution_count": 28,
     "metadata": {},
     "output_type": "execute_result"
    }
   ],
   "source": [
    "area_under_curve = 1- alpha/2\n",
    "area_under_curve"
   ]
  },
  {
   "cell_type": "code",
   "execution_count": 29,
   "id": "05e84909-4ea3-4887-bee5-a9bd4642affd",
   "metadata": {},
   "outputs": [],
   "source": [
    "#based on 0.995 from Z table \n",
    "z_table_score = 2.58"
   ]
  },
  {
   "cell_type": "code",
   "execution_count": 31,
   "id": "9ce453a0-1f87-4983-beff-e9207af7ad62",
   "metadata": {
    "tags": []
   },
   "outputs": [
    {
     "data": {
      "text/plain": [
       "0.21213203435596426"
      ]
     },
     "execution_count": 31,
     "metadata": {},
     "output_type": "execute_result"
    }
   ],
   "source": [
    "\n",
    "standard_error = std/math.sqrt(n) \n",
    "standard_error"
   ]
  },
  {
   "cell_type": "code",
   "execution_count": 32,
   "id": "4f9d5931-6010-4b5b-b349-b32fe1fb3c32",
   "metadata": {},
   "outputs": [],
   "source": [
    "lower_limit = mu-z_table_score*standard_error\n",
    "upper_limit = mu+z_table_score*standard_error"
   ]
  },
  {
   "cell_type": "code",
   "execution_count": 33,
   "id": "a671f888-daa2-464d-a1d1-a30cab48657a",
   "metadata": {},
   "outputs": [
    {
     "name": "stdout",
     "output_type": "stream",
     "text": [
      "I am 99% confidence that population mean stays between lower_limit : 3.452699351361612 Upper_limit : 4.547300648638387\n"
     ]
    }
   ],
   "source": [
    "print(\"I am 99% confidence that population mean stays between lower_limit :\",lower_limit , \"Upper_limit :\",upper_limit)"
   ]
  }
 ],
 "metadata": {
  "kernelspec": {
   "display_name": "Python 3 (ipykernel)",
   "language": "python",
   "name": "python3"
  },
  "language_info": {
   "codemirror_mode": {
    "name": "ipython",
    "version": 3
   },
   "file_extension": ".py",
   "mimetype": "text/x-python",
   "name": "python",
   "nbconvert_exporter": "python",
   "pygments_lexer": "ipython3",
   "version": "3.10.8"
  }
 },
 "nbformat": 4,
 "nbformat_minor": 5
}
