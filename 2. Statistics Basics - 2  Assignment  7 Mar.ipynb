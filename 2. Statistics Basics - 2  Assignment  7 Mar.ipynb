{
 "cells": [
  {
   "cell_type": "markdown",
   "id": "bfef74ea-e544-4414-a33e-5413bd79e15f",
   "metadata": {},
   "source": [
    "Q1. What are the three measures of central tendency?\n"
   ]
  },
  {
   "cell_type": "markdown",
   "id": "21edf8d7-0401-4c06-b456-0b89d37abe85",
   "metadata": {},
   "source": [
    "ans : \n",
    "\n",
    "mean, median, mode"
   ]
  },
  {
   "cell_type": "code",
   "execution_count": null,
   "id": "d07a16ab-448f-444b-aeda-2bdc9e7716a4",
   "metadata": {},
   "outputs": [],
   "source": [
    "\n",
    "\n"
   ]
  },
  {
   "cell_type": "markdown",
   "id": "a63ad2a3-5337-4c8c-8e98-4785e4c13a1e",
   "metadata": {},
   "source": [
    "Q2. What is the difference between the mean, median, and mode? How are they used to measure the\n",
    "central tendency of a dataset?\n"
   ]
  },
  {
   "cell_type": "markdown",
   "id": "2fc9aec9-18b8-4afa-90d7-b28e2918f9b8",
   "metadata": {},
   "source": [
    "ans :\n",
    "\n",
    "please find the below example"
   ]
  },
  {
   "cell_type": "code",
   "execution_count": 3,
   "id": "59170e63-462c-48b7-8522-863190f8e193",
   "metadata": {},
   "outputs": [
    {
     "data": {
      "text/html": [
       "<div>\n",
       "<style scoped>\n",
       "    .dataframe tbody tr th:only-of-type {\n",
       "        vertical-align: middle;\n",
       "    }\n",
       "\n",
       "    .dataframe tbody tr th {\n",
       "        vertical-align: top;\n",
       "    }\n",
       "\n",
       "    .dataframe thead th {\n",
       "        text-align: right;\n",
       "    }\n",
       "</style>\n",
       "<table border=\"1\" class=\"dataframe\">\n",
       "  <thead>\n",
       "    <tr style=\"text-align: right;\">\n",
       "      <th></th>\n",
       "      <th>0</th>\n",
       "    </tr>\n",
       "  </thead>\n",
       "  <tbody>\n",
       "    <tr>\n",
       "      <th>0</th>\n",
       "      <td>167</td>\n",
       "    </tr>\n",
       "    <tr>\n",
       "      <th>1</th>\n",
       "      <td>156</td>\n",
       "    </tr>\n",
       "    <tr>\n",
       "      <th>2</th>\n",
       "      <td>156</td>\n",
       "    </tr>\n",
       "    <tr>\n",
       "      <th>3</th>\n",
       "      <td>156</td>\n",
       "    </tr>\n",
       "    <tr>\n",
       "      <th>4</th>\n",
       "      <td>156</td>\n",
       "    </tr>\n",
       "  </tbody>\n",
       "</table>\n",
       "</div>"
      ],
      "text/plain": [
       "     0\n",
       "0  167\n",
       "1  156\n",
       "2  156\n",
       "3  156\n",
       "4  156"
      ]
     },
     "execution_count": 3,
     "metadata": {},
     "output_type": "execute_result"
    }
   ],
   "source": [
    "import pandas as pd\n",
    "\n",
    "height  = [167,156, 156, 156, 156, 157, 159, 168, 145]\n",
    "\n",
    "df = pd.DataFrame(height)\n",
    "\n",
    "df.head()\n"
   ]
  },
  {
   "cell_type": "code",
   "execution_count": 8,
   "id": "8dda97c7-d634-4f92-a27e-5af10e88ce6a",
   "metadata": {},
   "outputs": [
    {
     "data": {
      "text/plain": [
       "0    157.777778\n",
       "dtype: float64"
      ]
     },
     "execution_count": 8,
     "metadata": {},
     "output_type": "execute_result"
    }
   ],
   "source": [
    "#average of height\n",
    "\n",
    "df.mean()\n"
   ]
  },
  {
   "cell_type": "code",
   "execution_count": 5,
   "id": "4e7546cd-6c2e-4a30-95d3-2c973c44716d",
   "metadata": {},
   "outputs": [
    {
     "data": {
      "text/plain": [
       "0    156.0\n",
       "dtype: float64"
      ]
     },
     "execution_count": 5,
     "metadata": {},
     "output_type": "execute_result"
    }
   ],
   "source": [
    "#remove the outliner and give the average\n",
    "\n",
    "df.median()\n"
   ]
  },
  {
   "cell_type": "code",
   "execution_count": 7,
   "id": "a60ba9e6-ae7d-4255-86b5-3555efd47241",
   "metadata": {},
   "outputs": [
    {
     "data": {
      "text/html": [
       "<div>\n",
       "<style scoped>\n",
       "    .dataframe tbody tr th:only-of-type {\n",
       "        vertical-align: middle;\n",
       "    }\n",
       "\n",
       "    .dataframe tbody tr th {\n",
       "        vertical-align: top;\n",
       "    }\n",
       "\n",
       "    .dataframe thead th {\n",
       "        text-align: right;\n",
       "    }\n",
       "</style>\n",
       "<table border=\"1\" class=\"dataframe\">\n",
       "  <thead>\n",
       "    <tr style=\"text-align: right;\">\n",
       "      <th></th>\n",
       "      <th>0</th>\n",
       "    </tr>\n",
       "  </thead>\n",
       "  <tbody>\n",
       "    <tr>\n",
       "      <th>0</th>\n",
       "      <td>156</td>\n",
       "    </tr>\n",
       "  </tbody>\n",
       "</table>\n",
       "</div>"
      ],
      "text/plain": [
       "     0\n",
       "0  156"
      ]
     },
     "execution_count": 7,
     "metadata": {},
     "output_type": "execute_result"
    }
   ],
   "source": [
    "# provide us the no which has highest frequency\n",
    "\n",
    "df.mode()"
   ]
  },
  {
   "cell_type": "code",
   "execution_count": null,
   "id": "35b055e3-01c6-4cd5-b903-d39738f9c1c2",
   "metadata": {},
   "outputs": [],
   "source": [
    "\n",
    "\n",
    "\n",
    "\n"
   ]
  },
  {
   "cell_type": "markdown",
   "id": "65850347-7a99-4f84-8db0-f60cafeccf18",
   "metadata": {},
   "source": [
    "Q3. Measure the three measures of central tendency for the given height data:\n",
    "\n",
    "[178,177,176,177,178.2,178,175,179,180,175,178.9,176.2,177,172.5,178,176.5]\n"
   ]
  },
  {
   "cell_type": "code",
   "execution_count": 12,
   "id": "87e26a89-c199-451a-a7f4-fceccaffa679",
   "metadata": {},
   "outputs": [],
   "source": [
    "data3 = [178,177,176,177,178.2,178,175,179,180,175,178.9,176.2,177,172.5,178,176.5]"
   ]
  },
  {
   "cell_type": "code",
   "execution_count": 13,
   "id": "352dc064-f95f-44bc-8fa3-89e266ec4c98",
   "metadata": {},
   "outputs": [],
   "source": [
    "df3 = pd.DataFrame(data3)"
   ]
  },
  {
   "cell_type": "code",
   "execution_count": 15,
   "id": "0da49c03-9ea9-44e1-a04a-b6550f9fb142",
   "metadata": {},
   "outputs": [
    {
     "data": {
      "text/plain": [
       "0    177.01875\n",
       "dtype: float64"
      ]
     },
     "execution_count": 15,
     "metadata": {},
     "output_type": "execute_result"
    }
   ],
   "source": [
    "df3.mean()"
   ]
  },
  {
   "cell_type": "code",
   "execution_count": 16,
   "id": "81a446f6-82b7-4779-900e-e746c3ff42a4",
   "metadata": {},
   "outputs": [
    {
     "data": {
      "text/plain": [
       "0    177.0\n",
       "dtype: float64"
      ]
     },
     "execution_count": 16,
     "metadata": {},
     "output_type": "execute_result"
    }
   ],
   "source": [
    "df3.median()"
   ]
  },
  {
   "cell_type": "code",
   "execution_count": 17,
   "id": "6aca9127-05bf-489a-b163-36e29aa86101",
   "metadata": {},
   "outputs": [
    {
     "data": {
      "text/html": [
       "<div>\n",
       "<style scoped>\n",
       "    .dataframe tbody tr th:only-of-type {\n",
       "        vertical-align: middle;\n",
       "    }\n",
       "\n",
       "    .dataframe tbody tr th {\n",
       "        vertical-align: top;\n",
       "    }\n",
       "\n",
       "    .dataframe thead th {\n",
       "        text-align: right;\n",
       "    }\n",
       "</style>\n",
       "<table border=\"1\" class=\"dataframe\">\n",
       "  <thead>\n",
       "    <tr style=\"text-align: right;\">\n",
       "      <th></th>\n",
       "      <th>0</th>\n",
       "    </tr>\n",
       "  </thead>\n",
       "  <tbody>\n",
       "    <tr>\n",
       "      <th>0</th>\n",
       "      <td>177.0</td>\n",
       "    </tr>\n",
       "    <tr>\n",
       "      <th>1</th>\n",
       "      <td>178.0</td>\n",
       "    </tr>\n",
       "  </tbody>\n",
       "</table>\n",
       "</div>"
      ],
      "text/plain": [
       "       0\n",
       "0  177.0\n",
       "1  178.0"
      ]
     },
     "execution_count": 17,
     "metadata": {},
     "output_type": "execute_result"
    }
   ],
   "source": [
    "df3.mode()"
   ]
  },
  {
   "cell_type": "code",
   "execution_count": null,
   "id": "ef38711e-a95d-4dbd-ac8f-564960ba9fdd",
   "metadata": {},
   "outputs": [],
   "source": [
    "\n",
    "\n"
   ]
  },
  {
   "cell_type": "markdown",
   "id": "ab9afd94-3549-462e-8c86-33871b1e9a50",
   "metadata": {},
   "source": [
    "Q4. Find the standard deviation for the given data:\n",
    "\n",
    "[178,177,176,177,178.2,178,175,179,180,175,178.9,176.2,177,172.5,178,176.5]\n"
   ]
  },
  {
   "cell_type": "markdown",
   "id": "25f2e672-be52-46f6-addf-d3171e9315c1",
   "metadata": {},
   "source": [
    "data4 = [178,177,176,177,178.2,178,175,179,180,175,178.9,176.2,177,172.5,178,176.5]\n",
    "df4 = pd.DataFrame(data4)\n",
    "df4.std()\n"
   ]
  },
  {
   "cell_type": "code",
   "execution_count": null,
   "id": "8bbbefcc-dc66-4120-80cd-3c2f45436215",
   "metadata": {},
   "outputs": [],
   "source": [
    "\n",
    "\n",
    "\n"
   ]
  },
  {
   "cell_type": "markdown",
   "id": "310dd962-c72d-4af1-9f33-e4d0e63c1037",
   "metadata": {},
   "source": [
    "Q5. How are measures of dispersion such as range, variance, and standard deviation used to describe\n",
    "the spread of a dataset? Provide an example.\n"
   ]
  },
  {
   "cell_type": "markdown",
   "id": "2607be6d-4fbb-4a63-98e0-d6529e0865e3",
   "metadata": {},
   "source": [
    "ans : \n",
    "\n",
    "Range : The range of a dataset is the difference between the largest and smallest values in that dataset.\n",
    "\n",
    "e.g : data = [20,22,45,54,65]\n",
    "\n",
    "range = 65-20 = 45"
   ]
  },
  {
   "cell_type": "code",
   "execution_count": null,
   "id": "35a83266-6e5f-4648-bd49-20403866e384",
   "metadata": {},
   "outputs": [],
   "source": [
    "Variance : Variance is the average squared difference of the values from the mean. "
   ]
  },
  {
   "cell_type": "code",
   "execution_count": 22,
   "id": "fd37e757-fb75-4f68-a0fe-204a632e5316",
   "metadata": {},
   "outputs": [
    {
     "data": {
      "text/plain": [
       "0    45.944444\n",
       "dtype: float64"
      ]
     },
     "execution_count": 22,
     "metadata": {},
     "output_type": "execute_result"
    }
   ],
   "source": [
    "height  = [167,156, 156, 156, 156, 157, 159, 168, 145]\n",
    "\n",
    "df4 = pd.DataFrame(height)\n",
    "\n",
    "df4.head()\n",
    "df4.var()"
   ]
  },
  {
   "cell_type": "markdown",
   "id": "bd47d8be-9fa2-4049-953b-a4279b53881e",
   "metadata": {},
   "source": [
    "Std Deviation : The standard deviation is the standard or typical difference between each data point and the mean."
   ]
  },
  {
   "cell_type": "code",
   "execution_count": 23,
   "id": "e0441677-5c8b-4754-b83b-fda33dba6aae",
   "metadata": {},
   "outputs": [
    {
     "data": {
      "text/plain": [
       "0    6.778233\n",
       "dtype: float64"
      ]
     },
     "execution_count": 23,
     "metadata": {},
     "output_type": "execute_result"
    }
   ],
   "source": [
    "df4.std()"
   ]
  },
  {
   "cell_type": "code",
   "execution_count": null,
   "id": "a266e7be-6d64-4102-9fbb-2133bbd6d763",
   "metadata": {},
   "outputs": [],
   "source": [
    "\n",
    "\n",
    "\n"
   ]
  },
  {
   "cell_type": "markdown",
   "id": "26f15044-7fd9-4b0b-ab2f-16b79823aac6",
   "metadata": {},
   "source": [
    "Q6. What is a Venn diagram?\n",
    "\n",
    "ans: \n",
    "    \n",
    "A Venn diagram is a widely used diagram style that shows the logical relation between sets,"
   ]
  },
  {
   "cell_type": "markdown",
   "id": "849f7cd8-6eb4-43a2-9d6c-6d722064e7d3",
   "metadata": {},
   "source": [
    "Q7. For the two given sets A = (2,3,4,5,6,7) & B = (0,2,6,8,10). Find:\n",
    "\n",
    "(i) A Intersection B\n",
    "\n",
    "(ii) A Union B\n",
    "\n",
    "\n",
    "ans : \n",
    "    \n",
    "\n",
    "(i) A Intersection B : 2, 6\n",
    "\n",
    "(ii) A Union B : 2,3,4,5,6,7,0,8,10\n"
   ]
  },
  {
   "cell_type": "code",
   "execution_count": null,
   "id": "cb9d841e-23f4-4ce0-8891-551eb5e5a5d2",
   "metadata": {},
   "outputs": [],
   "source": [
    "\n",
    "\n",
    "\n"
   ]
  },
  {
   "cell_type": "markdown",
   "id": "ec5ea1b3-588d-4ca9-81c3-d54c1421154a",
   "metadata": {},
   "source": [
    "Q8. What do you understand about skewness in data?\n"
   ]
  },
  {
   "cell_type": "markdown",
   "id": "f913187b-3eea-49d0-8851-99caa9fe3a96",
   "metadata": {},
   "source": [
    "Ans : \n",
    "\n",
    "Skewness is a measure of the asymmetry of a distribution\n"
   ]
  },
  {
   "cell_type": "code",
   "execution_count": null,
   "id": "e1d81bac-3695-4094-a241-bf92868d0a9f",
   "metadata": {},
   "outputs": [],
   "source": [
    "\n",
    "\n",
    "\n"
   ]
  },
  {
   "cell_type": "markdown",
   "id": "bcf810bd-ca7d-4b91-969a-f2a279ea4fc8",
   "metadata": {},
   "source": [
    "Q9. If a data is right skewed then what will be the position of median with respect to mean?\n"
   ]
  },
  {
   "cell_type": "markdown",
   "id": "2880ca65-0083-427b-90b4-cf7f2714de9f",
   "metadata": {},
   "source": [
    "Ans : \n",
    "\n",
    "i.e Positive Skewed \n",
    "mean >= median >= Mode"
   ]
  },
  {
   "cell_type": "code",
   "execution_count": null,
   "id": "a094c7ed-8cbd-4076-bc25-4dd8dada08f9",
   "metadata": {},
   "outputs": [],
   "source": [
    "\n",
    "\n",
    "\n"
   ]
  },
  {
   "cell_type": "markdown",
   "id": "836b708a-be19-40fe-ac0d-50d42e30b1c8",
   "metadata": {},
   "source": [
    "Q10. Explain the difference between covariance and correlation. How are these measures used in\n",
    "statistical analysis?\n"
   ]
  },
  {
   "cell_type": "markdown",
   "id": "3581615e-9cc8-4dff-8063-056ae10f48ba",
   "metadata": {},
   "source": [
    "ans :\n",
    "    \n",
    "    \n",
    "Correlation helps us to understand whether two quantitive or categorical variables are related or not\n",
    "\n",
    "covariance measures directorial relationship bw two random variables. \n",
    "\n",
    "\n",
    "example:\n",
    "    \n",
    "suppose we have 2 variable a & b,\n",
    "\n",
    "our task is to establish a relationship between a and b.\n",
    "\n",
    "case 1 : - POSITIVE COVARIANCE\n",
    "\n",
    "    if a increases b will also increase\n",
    "    if a decreases b will also decrease. \n",
    "\n",
    "case 2 : - Negative COVARIANCE\n",
    "\n",
    "    if a increases b will  decrease\n",
    "    if a decreases b will increase. \n",
    "\n"
   ]
  },
  {
   "cell_type": "code",
   "execution_count": null,
   "id": "47f12896-38ca-4d30-80c2-1465bcfe0dd9",
   "metadata": {},
   "outputs": [],
   "source": [
    "\n",
    "\n"
   ]
  },
  {
   "cell_type": "markdown",
   "id": "29078982-8841-4ce1-96a8-0608ee6c339a",
   "metadata": {},
   "source": [
    "Q11. What is the formula for calculating the sample mean? Provide an example calculation for a\n",
    "dataset.\n",
    "\n",
    "ans: \n",
    "    \n",
    "sample mean = (sum of all the variables in sample)/(total no of variables)\n",
    "\n",
    "example : "
   ]
  },
  {
   "cell_type": "code",
   "execution_count": 3,
   "id": "00fb5e70-c9e7-4690-b7b0-d4c0004fc487",
   "metadata": {},
   "outputs": [
    {
     "data": {
      "text/html": [
       "<div>\n",
       "<style scoped>\n",
       "    .dataframe tbody tr th:only-of-type {\n",
       "        vertical-align: middle;\n",
       "    }\n",
       "\n",
       "    .dataframe tbody tr th {\n",
       "        vertical-align: top;\n",
       "    }\n",
       "\n",
       "    .dataframe thead th {\n",
       "        text-align: right;\n",
       "    }\n",
       "</style>\n",
       "<table border=\"1\" class=\"dataframe\">\n",
       "  <thead>\n",
       "    <tr style=\"text-align: right;\">\n",
       "      <th></th>\n",
       "      <th>total_bill</th>\n",
       "      <th>tip</th>\n",
       "      <th>sex</th>\n",
       "      <th>smoker</th>\n",
       "      <th>day</th>\n",
       "      <th>time</th>\n",
       "      <th>size</th>\n",
       "    </tr>\n",
       "  </thead>\n",
       "  <tbody>\n",
       "    <tr>\n",
       "      <th>0</th>\n",
       "      <td>16.99</td>\n",
       "      <td>1.01</td>\n",
       "      <td>Female</td>\n",
       "      <td>No</td>\n",
       "      <td>Sun</td>\n",
       "      <td>Dinner</td>\n",
       "      <td>2</td>\n",
       "    </tr>\n",
       "    <tr>\n",
       "      <th>1</th>\n",
       "      <td>10.34</td>\n",
       "      <td>1.66</td>\n",
       "      <td>Male</td>\n",
       "      <td>No</td>\n",
       "      <td>Sun</td>\n",
       "      <td>Dinner</td>\n",
       "      <td>3</td>\n",
       "    </tr>\n",
       "    <tr>\n",
       "      <th>2</th>\n",
       "      <td>21.01</td>\n",
       "      <td>3.50</td>\n",
       "      <td>Male</td>\n",
       "      <td>No</td>\n",
       "      <td>Sun</td>\n",
       "      <td>Dinner</td>\n",
       "      <td>3</td>\n",
       "    </tr>\n",
       "    <tr>\n",
       "      <th>3</th>\n",
       "      <td>23.68</td>\n",
       "      <td>3.31</td>\n",
       "      <td>Male</td>\n",
       "      <td>No</td>\n",
       "      <td>Sun</td>\n",
       "      <td>Dinner</td>\n",
       "      <td>2</td>\n",
       "    </tr>\n",
       "    <tr>\n",
       "      <th>4</th>\n",
       "      <td>24.59</td>\n",
       "      <td>3.61</td>\n",
       "      <td>Female</td>\n",
       "      <td>No</td>\n",
       "      <td>Sun</td>\n",
       "      <td>Dinner</td>\n",
       "      <td>4</td>\n",
       "    </tr>\n",
       "  </tbody>\n",
       "</table>\n",
       "</div>"
      ],
      "text/plain": [
       "   total_bill   tip     sex smoker  day    time  size\n",
       "0       16.99  1.01  Female     No  Sun  Dinner     2\n",
       "1       10.34  1.66    Male     No  Sun  Dinner     3\n",
       "2       21.01  3.50    Male     No  Sun  Dinner     3\n",
       "3       23.68  3.31    Male     No  Sun  Dinner     2\n",
       "4       24.59  3.61  Female     No  Sun  Dinner     4"
      ]
     },
     "execution_count": 3,
     "metadata": {},
     "output_type": "execute_result"
    }
   ],
   "source": [
    "import seaborn as sns\n",
    "df11 = sns.load_dataset(\"tips\")\n",
    "df11.head()"
   ]
  },
  {
   "cell_type": "code",
   "execution_count": 7,
   "id": "a321fe6d-b8e2-4477-8b3b-ff59c91953c6",
   "metadata": {},
   "outputs": [
    {
     "data": {
      "text/plain": [
       "2.99827868852459"
      ]
     },
     "execution_count": 7,
     "metadata": {},
     "output_type": "execute_result"
    }
   ],
   "source": [
    "#lets assume df11 is our sample data on TIPS DATASET. calculate the sample mean on tip\n",
    "\n",
    "df11['tip'].mean()"
   ]
  },
  {
   "cell_type": "code",
   "execution_count": null,
   "id": "abb227ea-d6e2-4526-afa4-c048e5a37756",
   "metadata": {},
   "outputs": [],
   "source": [
    "\n",
    "\n",
    "\n"
   ]
  },
  {
   "cell_type": "markdown",
   "id": "1a9c6117-5d7c-4d66-a118-0ce913c040b1",
   "metadata": {},
   "source": [
    "Q12. For a normal distribution data what is the relationship between its measure of central tendency?\n",
    "\n",
    "ans: \n",
    "\n",
    "mean = median = mode "
   ]
  },
  {
   "cell_type": "code",
   "execution_count": null,
   "id": "96ec00f0-fd73-4bd0-bba4-48222302647d",
   "metadata": {},
   "outputs": [],
   "source": [
    "\n",
    "\n"
   ]
  },
  {
   "cell_type": "markdown",
   "id": "4b33d0f8-9d34-4f15-b240-fd617b1660b4",
   "metadata": {},
   "source": [
    "Q13. How is covariance different from correlation?\n",
    "\n",
    "\n",
    "ans :\n",
    "\n",
    "Correlation helps us to understand whether two quantitive or categorical variables are related or not\n",
    "\n",
    "covariance measures directorial relationship bw two random variables. "
   ]
  },
  {
   "cell_type": "code",
   "execution_count": null,
   "id": "c19ef55a-74ea-48d4-a996-0f0871ab7c92",
   "metadata": {},
   "outputs": [],
   "source": [
    "\n",
    "\n"
   ]
  },
  {
   "cell_type": "markdown",
   "id": "6edc1db4-bd79-4794-a977-de06f8bf208a",
   "metadata": {},
   "source": [
    "Q14. How do outliers affect measures of central tendency and dispersion? Provide an example."
   ]
  },
  {
   "cell_type": "code",
   "execution_count": 11,
   "id": "6948d887-1353-4e00-a249-1d70d028bbdb",
   "metadata": {},
   "outputs": [
    {
     "data": {
      "text/plain": [
       "25.9"
      ]
     },
     "execution_count": 11,
     "metadata": {},
     "output_type": "execute_result"
    }
   ],
   "source": [
    "# we have a data of 10 students age with outlier = 107\n",
    "\n",
    "data14 = [8,12,18,23,21,12,13,26,19,107]\n",
    "\n",
    "import numpy as np\n",
    "\n",
    "#mean shows the avergae age \n",
    "np.mean(data14)"
   ]
  },
  {
   "cell_type": "code",
   "execution_count": 12,
   "id": "f1de601e-4ca2-4e6d-983b-2d42f02a139e",
   "metadata": {},
   "outputs": [
    {
     "data": {
      "text/plain": [
       "18.5"
      ]
     },
     "execution_count": 12,
     "metadata": {},
     "output_type": "execute_result"
    }
   ],
   "source": [
    "#meadian calculation\n",
    "np.median(data14)"
   ]
  },
  {
   "cell_type": "code",
   "execution_count": 16,
   "id": "f22aae69-75d4-4184-bff4-5e2169c828e3",
   "metadata": {},
   "outputs": [
    {
     "data": {
      "text/plain": [
       "759.2899999999998"
      ]
     },
     "execution_count": 16,
     "metadata": {},
     "output_type": "execute_result"
    }
   ],
   "source": [
    "np.var(data14)"
   ]
  },
  {
   "cell_type": "code",
   "execution_count": 17,
   "id": "2440a29f-f59d-4f3d-842d-7110abc80e28",
   "metadata": {},
   "outputs": [
    {
     "data": {
      "text/plain": [
       "27.555217291830594"
      ]
     },
     "execution_count": 17,
     "metadata": {},
     "output_type": "execute_result"
    }
   ],
   "source": [
    "np.std(data14)"
   ]
  }
 ],
 "metadata": {
  "kernelspec": {
   "display_name": "Python 3 (ipykernel)",
   "language": "python",
   "name": "python3"
  },
  "language_info": {
   "codemirror_mode": {
    "name": "ipython",
    "version": 3
   },
   "file_extension": ".py",
   "mimetype": "text/x-python",
   "name": "python",
   "nbconvert_exporter": "python",
   "pygments_lexer": "ipython3",
   "version": "3.10.8"
  }
 },
 "nbformat": 4,
 "nbformat_minor": 5
}
